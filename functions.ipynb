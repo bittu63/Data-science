{
 "cells": [
  {
   "cell_type": "code",
   "execution_count": 3,
   "id": "381a9cf4",
   "metadata": {},
   "outputs": [],
   "source": [
    "def fact(n):\n",
    "    fact_n=1\n",
    "    for i in range(1,n+1):\n",
    "        fact_n = fact_n* i\n",
    "    return fact_n"
   ]
  },
  {
   "cell_type": "code",
   "execution_count": 4,
   "id": "c8594294",
   "metadata": {},
   "outputs": [
    {
     "name": "stdout",
     "output_type": "stream",
     "text": [
      "5\n",
      "2\n"
     ]
    },
    {
     "data": {
      "text/plain": [
       "10"
      ]
     },
     "execution_count": 4,
     "metadata": {},
     "output_type": "execute_result"
    }
   ],
   "source": [
    "n=int(input())\n",
    "r=int(input())\n",
    "a=fact(n)\n",
    "b=fact(r)\n",
    "c=fact(n-r)\n",
    "ncr = a // (b * c)\n",
    "ncr"
   ]
  },
  {
   "cell_type": "code",
   "execution_count": 33,
   "id": "69f384b7",
   "metadata": {},
   "outputs": [],
   "source": [
    "def isPrime(n):\n",
    "    for d in range(2 , n):\n",
    "        if(n % d == 0):\n",
    "            break\n",
    "    else:\n",
    "        return True\n",
    "        \n",
    "    return False"
   ]
  },
  {
   "cell_type": "code",
   "execution_count": 34,
   "id": "45fc316c",
   "metadata": {},
   "outputs": [
    {
     "data": {
      "text/plain": [
       "False"
      ]
     },
     "execution_count": 34,
     "metadata": {},
     "output_type": "execute_result"
    }
   ],
   "source": [
    "isPrime(15)"
   ]
  },
  {
   "cell_type": "code",
   "execution_count": 35,
   "id": "a7ce9afc",
   "metadata": {},
   "outputs": [],
   "source": [
    "def prime2toN(n):\n",
    "    for k in range(2 , n+1):\n",
    "        isprim = isPrime(k)\n",
    "        if (isprim):\n",
    "            print(k)"
   ]
  },
  {
   "cell_type": "code",
   "execution_count": 36,
   "id": "c5d11c24",
   "metadata": {
    "scrolled": true
   },
   "outputs": [
    {
     "name": "stdout",
     "output_type": "stream",
     "text": [
      "2\n",
      "3\n",
      "5\n",
      "7\n",
      "11\n",
      "13\n",
      "17\n",
      "19\n"
     ]
    }
   ],
   "source": [
    "prime2toN(20)"
   ]
  },
  {
   "cell_type": "code",
   "execution_count": 37,
   "id": "1bcbccec",
   "metadata": {},
   "outputs": [
    {
     "name": "stdout",
     "output_type": "stream",
     "text": [
      "5\n"
     ]
    }
   ],
   "source": [
    "def func(a):\n",
    "    a = a + 10\n",
    "    return a\n",
    "a = 5\n",
    "func(a)\n",
    "print(a)"
   ]
  },
  {
   "cell_type": "code",
   "execution_count": 38,
   "id": "1af6705b",
   "metadata": {},
   "outputs": [
    {
     "name": "stdout",
     "output_type": "stream",
     "text": [
      "16\n"
     ]
    }
   ],
   "source": [
    "def square(a):\n",
    "    ans  = a*a\n",
    "    return  ans\n",
    "\n",
    "a = 4\n",
    "a = square(a)\n",
    "print(a)"
   ]
  },
  {
   "cell_type": "code",
   "execution_count": 53,
   "id": "7218bed3",
   "metadata": {},
   "outputs": [
    {
     "name": "stdout",
     "output_type": "stream",
     "text": [
      "0\n",
      "100\n",
      "20\n",
      "0  -17\n",
      "20  -6\n",
      "40  4\n",
      "60  15\n",
      "80  26\n",
      "100  37\n"
     ]
    }
   ],
   "source": [
    "\n",
    "def printTable(start,end,step):\n",
    "    while start<=end:\n",
    "        cel=(start-32)*5/9\n",
    "        cel = int(cel)\n",
    "        print(start,\"\",cel)\n",
    "        start=start+step\n",
    "#Implement Your Code Here \n",
    "\n",
    "s = int(input())\n",
    "e = int(input())\n",
    "step = int(input())\n",
    "printTable(s,e,step)"
   ]
  },
  {
   "cell_type": "code",
   "execution_count": 62,
   "id": "83e3a570",
   "metadata": {},
   "outputs": [
    {
     "name": "stdout",
     "output_type": "stream",
     "text": [
      "27\n",
      "false\n"
     ]
    }
   ],
   "source": [
    "def checkMember(n):\n",
    "     for d in range(2 , n):\n",
    "        if(n % d == 0):\n",
    "             break\n",
    "     else:\n",
    "        return True\n",
    "        \n",
    "     return False\n",
    "\n",
    "n=int(input())\n",
    "if(checkMember(n)):\n",
    "    print(\"true\")\n",
    "else:\n",
    "    print(\"false\")"
   ]
  },
  {
   "cell_type": "code",
   "execution_count": null,
   "id": "28a9eef6",
   "metadata": {},
   "outputs": [],
   "source": []
  }
 ],
 "metadata": {
  "kernelspec": {
   "display_name": "Python 3 (ipykernel)",
   "language": "python",
   "name": "python3"
  },
  "language_info": {
   "codemirror_mode": {
    "name": "ipython",
    "version": 3
   },
   "file_extension": ".py",
   "mimetype": "text/x-python",
   "name": "python",
   "nbconvert_exporter": "python",
   "pygments_lexer": "ipython3",
   "version": "3.9.7"
  }
 },
 "nbformat": 4,
 "nbformat_minor": 5
}
