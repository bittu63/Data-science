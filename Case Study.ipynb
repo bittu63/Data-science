{
 "cells": [
  {
   "cell_type": "markdown",
   "id": "a19085f6",
   "metadata": {},
   "source": [
    "Q1\n",
    "Your Friend has developed the Product and he wants to establish the product startup and he is searching for a perfect location where getting the investment has a high chance. But due to its financial restriction, he can choose only between three locations -  Bangalore, Mumbai, and NCR. As a friend, you want to help your friend deciding the location. NCR include Gurgaon, Noida and New Delhi. Find the location where the most number of funding is done. That means, find the location where startups has received funding maximum number of times. Plot the bar graph between location and number of funding. Take city name \"Delhi\" as \"New Delhi\". Check the case-sensitiveness of cities also. That means, at some place instead of \"Bangalore\", \"bangalore\" is given. Take city name as \"Bangalore\". For few startups multiple locations are given, one Indian and one Foreign. Consider the startup if any one of the city lies in given locations."
   ]
  },
  {
   "cell_type": "code",
   "execution_count": 48,
   "id": "11703a61",
   "metadata": {},
   "outputs": [
    {
     "data": {
      "image/png": "[encoded data removed]",
      "text/plain": [
       "<Figure size 432x288 with 1 Axes>"
      ]
     },
     "metadata": {
      "needs_background": "light"
     },
     "output_type": "display_data"
    },
    {
     "name": "stdout",
     "output_type": "stream",
     "text": [
      "Bangalore 53.42\n",
      "NCR 31.64\n",
      "Mumbai 14.94\n"
     ]
    }
   ],
   "source": [
    "import pandas as pd\n",
    "import numpy as np\n",
    "import matplotlib.pyplot as plt\n",
    "data=pd.read_csv('C:/Users/biswa/OneDrive/Desktop/startup_funding.csv')\n",
    "df=data.copy()\n",
    "df.drop(df.index[df.CityLocation.isnull()], inplace=True)\n",
    "df.reset_index(inplace=True, drop=True)\n",
    "df.loc[df['AmountInUSD'].isnull(), 'AmountInUSD']='0'\n",
    "df.loc[df.CityLocation=='bangalore','CityLocation']='Bangalore'\n",
    "df.loc[df.CityLocation=='Delhi', 'CityLocation']='New Delhi'\n",
    "df.loc[df.CityLocation=='New Delhi', 'CityLocation']='NCR'\n",
    "df.loc[df.CityLocation=='Gurgaon', 'CityLocation']='NCR'\n",
    "df.loc[df.CityLocation=='Noida', 'CityLocation']='NCR'\n",
    "city=[]\n",
    "amount=[]\n",
    "for i in df.CityLocation:\n",
    "    city.append(i)\n",
    "for i in df.AmountInUSD:\n",
    "    amount.append(i)\n",
    "\n",
    "for i in range(len(amount)):\n",
    "    amount[i]=''.join(amount[i].split(','))\n",
    "    city[i]=city[i].split('/')[0].strip()\n",
    "np_amount=np.array(amount, dtype='int64')\n",
    "np_city=np.array(city)\n",
    "\n",
    "dic=dict()\n",
    "for i in range(len(np_city)):\n",
    "    if np_city[i] in dic:\n",
    "        dic[np_city[i]]+=np_amount[i]\n",
    "    else:\n",
    "        dic[np_city[i]]=np_amount[i]\n",
    "xaxis=list(dic.keys())\n",
    "yaxis=list(dic.values())\n",
    "\n",
    "np_xaxis=np.array(xaxis)\n",
    "np_yaxis=np.array(yaxis)\n",
    "\n",
    "np_xaxis=np_xaxis[np.argsort(np_yaxis)]\n",
    "np_yaxis=np.sort(np_yaxis)\n",
    "\n",
    "np_xaxis=np_xaxis[len(np_xaxis)-1:len(np_xaxis)-1-3:-1]\n",
    "np_yaxis=np_yaxis[len(np_yaxis)-1:len(np_yaxis)-1-3:-1]\n",
    "\n",
    "plt.bar(np_xaxis, np_yaxis, color='red')\n",
    "plt.xlabel('City')\n",
    "plt.ylabel('Funding')\n",
    "plt.show()\n",
    "\n",
    "for i in range(len(np_xaxis)):\n",
    "    print(np_xaxis[i], format((np_yaxis[i]*100)/sum(np_yaxis), '.2f'))"
   ]
  },
  {
   "cell_type": "code",
   "execution_count": 54,
   "id": "b403a25d",
   "metadata": {},
   "outputs": [
    {
     "name": "stdout",
     "output_type": "stream",
     "text": [
      "Bangalore\n"
     ]
    },
    {
     "data": {
      "image/png": "[encoded data removed]",
      "text/plain": [
       "<Figure size 432x288 with 1 Axes>"
      ]
     },
     "metadata": {
      "needs_background": "light"
     },
     "output_type": "display_data"
    }
   ],
   "source": [
    "import pandas as pd\n",
    "import matplotlib.pyplot as plt\n",
    "startup = pd.read_csv(\"C:/Users/biswa/OneDrive/Desktop/startup_funding.csv\")  \n",
    "df = startup.copy()  \n",
    "\n",
    "df.dropna(subset = [\"CityLocation\"],inplace = True)  \n",
    "df[\"CityLocation\"].replace(\"bangalore\",\"Bangalore\",inplace = True)  \n",
    "df[\"CityLocation\"].replace(\"Delhi\",\"New Delhi\",inplace = True)\n",
    "\n",
    "d1 = {}   \n",
    "\n",
    "for i in df[\"CityLocation\"]: \n",
    "    if \"Bangalore\" in i:\n",
    "        d1[\"Bangalore\"] = d1.get(\"Bangalore\",0) + 1  \n",
    "    elif \"Mumbai\" in i:\n",
    "        d1[\"Mumbai\"] = d1.get(\"Mumbai\",0) + 1\n",
    "    elif \"New Delhi\" in i:\n",
    "        d1[\"New Delhi\"] = d1.get(\"New Delhi\",0) + 1\n",
    "    elif \"Noida\" in i:\n",
    "        d1[\"Noida\"] = d1.get(\"Noida\",0) + 1\n",
    "    elif \"Gurgaon\" in i:\n",
    "        d1[\"Gurgaon\"] = d1.get(\"Gurgaon\",0) + 1\n",
    "        \n",
    "cities = sorted(d1, key=d1.get , reverse=True)     \n",
    "fundings = [] \n",
    "for i in cities: \n",
    "    fundings.append(d1[i])\n",
    "    \n",
    "print(cities[0])\n",
    "\n",
    "plt.bar(cities,fundings,width = 0.5,color = \"red\" , edgecolor = \"yellow\") \n",
    "plt.xlabel(\"Locations\")\n",
    "plt.ylabel(\"Number of Fundings\")  \n",
    "plt.xticks(rotation = 40)\n",
    "plt.show()"
   ]
  },
  {
   "cell_type": "markdown",
   "id": "36ed43fb",
   "metadata": {},
   "source": [
    "Q2\n",
    "Even after trying for so many times, your friend’s startup could not find the investment. So you decided to take this matter in your hand and try to find the list of investors who probably can invest in your friend’s startup. Your list will increase the chance of your friend startup getting some initial investment by contacting these investors. Find the top 5 investors who have invested maximum number of times (consider repeat investments in one company also). In a startup, multiple investors might have invested. So consider each investor for that startup. Ignore undisclosed investors."
   ]
  },
  {
   "cell_type": "code",
   "execution_count": 43,
   "id": "287bfd22",
   "metadata": {},
   "outputs": [
    {
     "name": "stdout",
     "output_type": "stream",
     "text": [
      "Ratan Tata 24\n",
      "Indian Angel Network 24\n",
      "Kalaari Capital 16\n",
      "Group of Angel Investors 15\n",
      "Sequoia Capital 14\n"
     ]
    }
   ],
   "source": [
    "import pandas as pd\n",
    "import numpy as np\n",
    "import matplotlib.pyplot as plt\n",
    "data=pd.read_csv('C:/Users/biswa/OneDrive/Desktop/startup_funding.csv',encoding='ISO-8859-1')\n",
    "df=data.copy()\n",
    "df.iloc[df.InvestorsName =='Undisclosed investors']='Undisclosed Investors'\n",
    "np_investor=np.array(df.InvestorsName)\n",
    "np_investor=np_investor[np_investor !='Undisclosed Investors']\n",
    "dic=dict()\n",
    "for i in np_investor:\n",
    "    if i in dic.keys():\n",
    "        dic[i]+=1\n",
    "    else:\n",
    "        dic[i]=1\n",
    "x=[]\n",
    "y=[]\n",
    "for i in dic.keys():\n",
    "    x.append(i)\n",
    "    y.append(dic[i])\n",
    "np_x=np.array(x)\n",
    "np_y=np.array(y)\n",
    "np_x=np_x[np.argsort(np_y)]\n",
    "np_y=np.sort(np_y)\n",
    "np_x=np_x[len(np_x)-1:len(np_x)-1-5:-1]\n",
    "np_y=np_y[len(np_y)-1:len(np_y)-1-5:-1]\n",
    "for i in range(len(np_x)):\n",
    "    print(np_x[i], np_y[i])"
   ]
  },
  {
   "cell_type": "code",
   "execution_count": 56,
   "id": "bcd332ca",
   "metadata": {},
   "outputs": [
    {
     "name": "stdout",
     "output_type": "stream",
     "text": [
      "Sequoia Capital\n",
      "Accel Partners\n",
      "Kalaari Capital\n",
      "SAIF Partners\n",
      "Indian Angel Network\n"
     ]
    }
   ],
   "source": [
    "import pandas as pd\n",
    "import matplotlib.pyplot as plt\n",
    "startup = pd.read_csv(\"C:/Users/biswa/OneDrive/Desktop/startup_funding.csv\")\n",
    "df = startup.copy()\n",
    "\n",
    "df.dropna(subset = [\"InvestorsName\"],inplace = True) \n",
    "\n",
    "d = {}  \n",
    "for i in df[\"InvestorsName\"].values:  \n",
    "    if \",\" in i: \n",
    "        for j in i.strip().split(','):\n",
    "            d[j.strip()] = d.get(j.strip(),0) + 1\n",
    "    else:\n",
    "        d[i.strip()] = d.get(i.strip(),0) + 1\n",
    "d1 = sorted(d, key=d.get , reverse=True)[0:5]   \n",
    "for i in d1: \n",
    "    print(i)"
   ]
  },
  {
   "cell_type": "markdown",
   "id": "56ad0497",
   "metadata": {},
   "source": [
    "Q3\n",
    "After re-analysing the dataset you found out that some investors have invested in the same startup at different number of funding rounds. So before finalising the previous list, you want to improvise it by finding the top 5 investors who have invested in different number of startups. This list will be more helpful than your previous list in finding the investment for your friend startup. Find the top 5 investors who have invested maximum number of times in different companies. That means, if one investor has invested multiple times in one startup, count one for that company. There are many errors in startup names. Ignore correcting all, just handle the important ones - Ola, Flipkart, Oyo and Paytm."
   ]
  },
  {
   "cell_type": "code",
   "execution_count": 59,
   "id": "468d4f12",
   "metadata": {},
   "outputs": [
    {
     "name": "stdout",
     "output_type": "stream",
     "text": [
      "Sequoia Capital\n",
      "Accel Partners\n",
      "Kalaari Capital\n",
      "Indian Angel Network\n",
      "Blume Ventures\n"
     ]
    }
   ],
   "source": [
    "import pandas as pd\n",
    "import numpy as np\n",
    "import matplotlib.pyplot as plt\n",
    "startup = pd.read_csv(\"C:/Users/biswa/OneDrive/Desktop/startup_funding.csv\")\n",
    "df = startup.copy()\n",
    "\n",
    "df.dropna(subset = [\"StartupName\",\"InvestorsName\"],inplace = True) \n",
    "df[\"StartupName\"].replace(\"Flipkart.com\",\"Flipkart\",inplace = True)\n",
    "df[\"StartupName\"].replace(\"Ola Cabs\",\"Ola\",inplace = True)\n",
    "df[\"StartupName\"].replace(\"Olacabs\",\"Ola\",inplace = True)\n",
    "df[\"StartupName\"].replace(\"Oyorooms\",\"Oyo\",inplace = True)\n",
    "df[\"StartupName\"].replace(\"OyoRooms\",\"Oyo\",inplace = True)\n",
    "df[\"StartupName\"].replace(\"OYO Rooms\",\"Oyo\",inplace = True)\n",
    "df[\"StartupName\"].replace(\"Oyo Rooms\",\"Oyo\",inplace = True)\n",
    "df[\"StartupName\"].replace(\"Paytm Marketplace\",\"Paytm\",inplace = True)\n",
    "\n",
    "d = {}\n",
    "for i in df.index:\n",
    "    e = df[\"InvestorsName\"][i].strip()\n",
    "    if \",\" in e:\n",
    "        for j in e.strip().split(','):\n",
    "            if j.strip() in d:\n",
    "                d[j.strip()].add(df[\"StartupName\"][i].strip())\n",
    "            else:\n",
    "                s = set()\n",
    "                d[j.strip()] = s\n",
    "                d[j.strip()].add(df[\"StartupName\"][i].strip())\n",
    "    else:\n",
    "        a = e.strip()\n",
    "        if a in d: \n",
    "            d[a].add(df[\"StartupName\"][i].strip())\n",
    "        else:\n",
    "            s = set()\n",
    "            d[a] = s\n",
    "            d[a].add(df[\"StartupName\"][i].strip())\n",
    "            \n",
    "d1 = {}\n",
    "for i in d:\n",
    "    if i == \"\":\n",
    "        continue\n",
    "    d1[i] = len(d[i])\n",
    "    \n",
    "d2 = sorted(d1, key=d1.get , reverse=True)[0:5] \n",
    "for i in d2:\n",
    "    print(i)"
   ]
  },
  {
   "cell_type": "markdown",
   "id": "753df456",
   "metadata": {},
   "source": [
    "Q4 Even after putting so much effort in finding the probable investors, it didn't turn out to be helpful for your friend. So you went to your investor friend to understand the situation better and your investor friend explained to you about the different Investment Types and their features. This new information will be helpful in finding the right investor. Since your friend startup is at an early stage startup, the best-suited investment type would be - Seed Funding and Crowdfunding. Find the top 5 investors who have invested in a different number of startups and their investment type is Crowdfunding or Seed Funding. Correct spelling of investment types are - \"Private Equity\", \"Seed Funding\", \"Debt Funding\", and \"Crowd Funding\". Keep an eye for any spelling mistake. You can find this by printing unique values from this column. There are many errors in startup names. Ignore correcting all, just handle the important ones - Ola, Flipkart, Oyo and Paytm."
   ]
  },
  {
   "cell_type": "code",
   "execution_count": 61,
   "id": "a44edba1",
   "metadata": {},
   "outputs": [
    {
     "name": "stdout",
     "output_type": "stream",
     "text": [
      "Indian Angel Network\n",
      "Rajan Anandan\n",
      "LetsVenture\n",
      "Anupam Mittal\n",
      "Kunal Shah\n"
     ]
    }
   ],
   "source": [
    "import pandas as pd\n",
    "import numpy as np\n",
    "import matplotlib.pyplot as plt\n",
    "startup = pd.read_csv(\"C:/Users/biswa/OneDrive/Desktop/startup_funding.csv\")\n",
    "df = startup.copy()\n",
    "df.dropna(subset = [\"InvestorsName\"],inplace = True)\n",
    "df[\"InvestorsName\"].replace(\"Undisclosed Investors\",\"\",inplace = True)  \n",
    "df[\"InvestorsName\"].replace(\"Undisclosed investors\",\"\",inplace = True)\n",
    "df = df[(df[\"InvestmentType\"] == \"Seed Funding\") | (df[\"InvestmentType\"] == \"Crowd Funding\")]  \n",
    "\n",
    "d = {}  \n",
    "for i in df[\"InvestorsName\"].values:  \n",
    "    if \",\" in i: \n",
    "        for j in i.strip().split(','):\n",
    "            d[j.strip()] = d.get(j.strip(),0) + 1\n",
    "    else:\n",
    "        d[i.strip()] = d.get(i.strip(),0) + 1\n",
    "        \n",
    "del d[\"\"] \n",
    "\n",
    "d1 = sorted(d, key=d.get , reverse=True)[0:5]\n",
    "for i in d1:\n",
    "    print(i)"
   ]
  },
  {
   "cell_type": "markdown",
   "id": "b6b3c403",
   "metadata": {},
   "source": [
    "Q5\n",
    "Due to your immense help, your friend startup successfully got seed funding and it is on the operational mode. Now your friend wants to expand his startup and he is looking for new investors for his startup. Now you again come as a saviour to help your friend and want to create a list of probable new new investors. Before moving forward you remember your investor friend advice that finding the investors by analysing the investment type. Since your friend startup is not in early phase it is in growth stage so the best-suited investment type is Private Equity. Find the top 5 investors who have invested in a different number of startups and their investment type is Private Equity. Correct spelling of investment types are - \"Private Equity\", \"Seed Funding\", \"Debt Funding\", and \"Crowd Funding\". Keep an eye for any spelling mistake. You can find this by printing unique values from this column. There are many errors in startup names. Ignore correcting all, just handle the important ones - Ola, Flipkart, Oyo and Paytm."
   ]
  },
  {
   "cell_type": "code",
   "execution_count": 65,
   "id": "0f14f72c",
   "metadata": {},
   "outputs": [
    {
     "name": "stdout",
     "output_type": "stream",
     "text": [
      "Sequoia Capital\n",
      "Accel Partners\n",
      "Kalaari Capital\n",
      "SAIF Partners\n",
      "Blume Ventures\n"
     ]
    }
   ],
   "source": [
    "import pandas as pd\n",
    "import numpy as np\n",
    "import matplotlib.pyplot as plt\n",
    "startup = pd.read_csv(\"C:/Users/biswa/OneDrive/Desktop/startup_funding.csv\")\n",
    "df = startup.copy()\n",
    "df.dropna(subset = [\"InvestorsName\"],inplace = True)  \n",
    "df[\"InvestorsName\"].replace(\"Undisclosed Investors\",\"\",inplace = True)  \n",
    "df[\"InvestorsName\"].replace(\"Undisclosed investors\",\"\",inplace = True)\n",
    "df = df[(df[\"InvestmentType\"] == \"Private Equity\")]  \n",
    "\n",
    "d = {}  \n",
    "for i in df[\"InvestorsName\"].values:  \n",
    "    if \",\" in i: \n",
    "        for j in i.strip().split(','):\n",
    "            d[j.strip()] = d.get(j.strip(),0) + 1\n",
    "    else:\n",
    "        d[i.strip()] = d.get(i.strip(),0) + 1\n",
    "        \n",
    "del d[\"\"] \n",
    "\n",
    "d1 = sorted(d, key=d.get , reverse=True)[0:5]\n",
    "for i in d1:\n",
    "    print(i)"
   ]
  }
 ],
 "metadata": {
  "kernelspec": {
   "display_name": "Python 3 (ipykernel)",
   "language": "python",
   "name": "python3"
  },
  "language_info": {
   "codemirror_mode": {
    "name": "ipython",
    "version": 3
   },
   "file_extension": ".py",
   "mimetype": "text/x-python",
   "name": "python",
   "nbconvert_exporter": "python",
   "pygments_lexer": "ipython3",
   "version": "3.9.7"
  }
 },
 "nbformat": 4,
 "nbformat_minor": 5
}
