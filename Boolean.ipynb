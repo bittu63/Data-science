{
 "cells": [
  {
   "cell_type": "markdown",
   "id": "64e21e2e",
   "metadata": {},
   "source": [
    "### Relational Operators"
   ]
  },
  {
   "cell_type": "code",
   "execution_count": 2,
   "id": "8b608512",
   "metadata": {},
   "outputs": [
    {
     "name": "stdout",
     "output_type": "stream",
     "text": [
      "False\n",
      "True\n",
      "True\n",
      "False\n",
      "False\n",
      "True\n"
     ]
    }
   ],
   "source": [
    "a=10\n",
    "b=20\n",
    "\n",
    "print(a>b)\n",
    "print(a<b)\n",
    "print(a<=b)\n",
    "print(a>=b)\n",
    "print(a==b)\n",
    "print(a!=b)"
   ]
  },
  {
   "cell_type": "markdown",
   "id": "780a6bf8",
   "metadata": {},
   "source": [
    "### Logical Operators"
   ]
  },
  {
   "cell_type": "code",
   "execution_count": 6,
   "id": "0660812c",
   "metadata": {},
   "outputs": [
    {
     "name": "stdout",
     "output_type": "stream",
     "text": [
      "False\n",
      "False\n",
      "True\n"
     ]
    }
   ],
   "source": [
    "c1=a>10\n",
    "c2=b<10\n",
    "r1=c1 and c2\n",
    "r2=c1 or c2\n",
    "r3=not(c1)\n",
    "print(r1)\n",
    "print(r2)\n",
    "print(r3)"
   ]
  },
  {
   "cell_type": "markdown",
   "id": "77ab672f",
   "metadata": {},
   "source": [
    "### If-else"
   ]
  },
  {
   "cell_type": "code",
   "execution_count": 7,
   "id": "610f060a",
   "metadata": {},
   "outputs": [
    {
     "name": "stdout",
     "output_type": "stream",
     "text": [
      "I am inside if\n"
     ]
    }
   ],
   "source": [
    "a=True\n",
    "if a:\n",
    "    print(\"I am inside if\")\n",
    "else:\n",
    "    print(\"I am in else\")"
   ]
  },
  {
   "cell_type": "markdown",
   "id": "2fa7dc1a",
   "metadata": {},
   "source": [
    "### Check the number to be odd or even"
   ]
  },
  {
   "cell_type": "code",
   "execution_count": 12,
   "id": "1fb578ff",
   "metadata": {},
   "outputs": [
    {
     "name": "stdout",
     "output_type": "stream",
     "text": [
      "13\n",
      "13 is odd\n"
     ]
    }
   ],
   "source": [
    "a=int(input())\n",
    "r=a%2\n",
    "if r==0:\n",
    "    print(a,\"is even\")\n",
    "else:\n",
    "    print(a,\"is odd\")"
   ]
  },
  {
   "cell_type": "code",
   "execution_count": 13,
   "id": "5f247e85",
   "metadata": {},
   "outputs": [
    {
     "name": "stdout",
     "output_type": "stream",
     "text": [
      "12\n",
      "34\n",
      "Both are > 10\n"
     ]
    }
   ],
   "source": [
    "a=int(input())\n",
    "b=int(input())\n",
    "if a>10 and b>10:\n",
    "    print(\"Both are > 10\")\n",
    "else:\n",
    "    print(\"No they are not\")\n"
   ]
  },
  {
   "cell_type": "markdown",
   "id": "e1c94735",
   "metadata": {},
   "source": [
    "### elif example"
   ]
  },
  {
   "cell_type": "code",
   "execution_count": 17,
   "id": "73ae801b",
   "metadata": {},
   "outputs": [
    {
     "name": "stdout",
     "output_type": "stream",
     "text": [
      "13\n",
      "50\n",
      "12\n",
      "b is greater\n"
     ]
    }
   ],
   "source": [
    "a=int(input())\n",
    "b=int(input())\n",
    "c=int(input())\n",
    "if a>b:\n",
    "    print(\"a is greater\")\n",
    "elif b>c:\n",
    "    print(\"b is greater\")\n",
    "else:\n",
    "    print(\"c is greater\")"
   ]
  },
  {
   "cell_type": "code",
   "execution_count": 21,
   "id": "14199f8f",
   "metadata": {},
   "outputs": [
    {
     "name": "stdout",
     "output_type": "stream",
     "text": [
      "0\n",
      "Zero\n"
     ]
    }
   ],
   "source": [
    "n=int(input())\n",
    "if n>0:\n",
    "    print(\"Positive\")\n",
    "elif n<0:\n",
    "    print(\"Negetive\")\n",
    "else:\n",
    "    print(\"Zero\")"
   ]
  },
  {
   "cell_type": "code",
   "execution_count": 2,
   "id": "d87f00bd",
   "metadata": {},
   "outputs": [
    {
     "name": "stdout",
     "output_type": "stream",
     "text": [
      "B\n"
     ]
    }
   ],
   "source": [
    " if (10 < 0) and (0 < -10):\n",
    "     print(\"A\")\n",
    " elif (10 > 0) or False:\n",
    "     print(\"B\")\n",
    " else:\n",
    "    print(\"C\")"
   ]
  },
  {
   "cell_type": "code",
   "execution_count": 4,
   "id": "332d7d9e",
   "metadata": {},
   "outputs": [
    {
     "name": "stdout",
     "output_type": "stream",
     "text": [
      "B\n"
     ]
    }
   ],
   "source": [
    "if True or True:\n",
    "    if False and True or False:\n",
    "        print('A')\n",
    "    elif False and False or True and True:\n",
    "       print('B')\n",
    "    else:\n",
    "      print('C')\n",
    "else:\n",
    "     print('D')"
   ]
  },
  {
   "cell_type": "code",
   "execution_count": 10,
   "id": "ccf53594",
   "metadata": {},
   "outputs": [
    {
     "name": "stdout",
     "output_type": "stream",
     "text": [
      "12\n",
      "78\n"
     ]
    }
   ],
   "source": [
    "n=int(input())\n",
    "count=1\n",
    "sum=0\n",
    "while count<=n:\n",
    "    sum=sum+count\n",
    "    count=count+1\n",
    "print(sum)"
   ]
  },
  {
   "cell_type": "code",
   "execution_count": 9,
   "id": "7eb4dbbf",
   "metadata": {},
   "outputs": [
    {
     "name": "stdout",
     "output_type": "stream",
     "text": [
      "8\n",
      "20\n"
     ]
    }
   ],
   "source": [
    "n=int(input())\n",
    "sum=0\n",
    "count=1\n",
    "while count<=n: \n",
    "    if count % 2 ==0:\n",
    "        sum=sum+count\n",
    "    count=count+1\n",
    "print(sum)"
   ]
  },
  {
   "cell_type": "markdown",
   "id": "6f839b16",
   "metadata": {},
   "source": [
    "### Check the numbers are prime or not"
   ]
  },
  {
   "cell_type": "code",
   "execution_count": 6,
   "id": "7550ba78",
   "metadata": {},
   "outputs": [
    {
     "name": "stdout",
     "output_type": "stream",
     "text": [
      "134565753245\n",
      "prime\n"
     ]
    }
   ],
   "source": [
    "n=int(input())\n",
    "d=2\n",
    "flag=False\n",
    "while d<n-1:\n",
    "    if n % d == 0:\n",
    "        break\n",
    "        flag=True\n",
    "    d = d + 1\n",
    "if flag:\n",
    "     print(\"this is not prime\")\n",
    "else:\n",
    "    print(\"prime\")"
   ]
  },
  {
   "cell_type": "markdown",
   "id": "ff5abb0d",
   "metadata": {},
   "source": [
    "### Check the 1st prime numbers and print it"
   ]
  },
  {
   "cell_type": "code",
   "execution_count": 9,
   "id": "b9ae0354",
   "metadata": {},
   "outputs": [
    {
     "name": "stdout",
     "output_type": "stream",
     "text": [
      "15\n",
      "2\n",
      "3\n",
      "5\n",
      "7\n",
      "11\n",
      "13\n"
     ]
    }
   ],
   "source": [
    "n=int(input())\n",
    "k=2\n",
    "while k<=n:\n",
    "    d=2\n",
    "    flag=False\n",
    "    while d < k:\n",
    "        if(k % d == 0):\n",
    "            flag=True\n",
    "        d = d + 1\n",
    "       \n",
    "    if not(flag):\n",
    "        print(k)\n",
    "    k=k+1"
   ]
  },
  {
   "cell_type": "code",
   "execution_count": 1,
   "id": "c1b31095",
   "metadata": {},
   "outputs": [
    {
     "name": "stdout",
     "output_type": "stream",
     "text": [
      "0\n",
      "100\n",
      "20\n",
      "0  -17\n",
      "20  -6\n",
      "40  4\n",
      "60  15\n",
      "80  26\n",
      "100  37\n"
     ]
    }
   ],
   "source": [
    "S=int(input())\n",
    "E=int(input())\n",
    "W=int(input())\n",
    "while S<=E:\n",
    "    cel=(S-32)*5/9\n",
    "    cel = int(cel)\n",
    "    print(S,\"\",cel)\n",
    "    S=S+W"
   ]
  },
  {
   "cell_type": "markdown",
   "id": "f8582f14",
   "metadata": {},
   "source": [
    "### calculator"
   ]
  },
  {
   "cell_type": "code",
   "execution_count": 10,
   "id": "4c1b8818",
   "metadata": {},
   "outputs": [
    {
     "name": "stdout",
     "output_type": "stream",
     "text": [
      "1\n",
      "12\n",
      "13\n",
      "25\n"
     ]
    }
   ],
   "source": [
    "a=int(input())\n",
    "n1=int(input())\n",
    "n2=int(input())\n",
    "if(a==1):\n",
    "    sum=n1+n2\n",
    "    print(sum)\n",
    "elif(a == 2):\n",
    "    sub=n1-n2\n",
    "    print(sub)\n",
    "elif a==3:\n",
    "    mult=n1*n2\n",
    "    print(mult)\n",
    "elif a==4:\n",
    "    div=n1/n2\n",
    "    print(div)\n",
    "elif a==5:\n",
    "    rem=n1%n2\n",
    "    print(rem)\n",
    "elif a==6:\n",
    "    exit()\n",
    "else:\n",
    "    print(\"Invalid Opeartion\")"
   ]
  },
  {
   "cell_type": "code",
   "execution_count": null,
   "id": "e585b9c4",
   "metadata": {},
   "outputs": [],
   "source": [
    "while True:\n",
    "    choice = int(input())\n",
    "    if (choice>=1 and choice<=5):\n",
    "        num1 = int(input())\n",
    "        num2 = int(input())\n",
    "        if choice == 1: \n",
    "            res = num1 + num2\n",
    "            print(res)\n",
    "        elif choice == 2: \n",
    "            res = num1 - num2\n",
    "            print(res)\n",
    "        elif choice == 3: \n",
    "            res = num1 * num2\n",
    "            print(res)\n",
    "        elif choice == 4: \n",
    "            res = num1 // num2\n",
    "            print(res)\n",
    "        elif choice == 5:\n",
    "            res = num1 % num2\n",
    "            print(res)\n",
    "    elif choice == 6:\n",
    "        exit()\n",
    "    else:\n",
    "        print(\"Invalid Operation\")"
   ]
  },
  {
   "cell_type": "markdown",
   "id": "9bea42c9",
   "metadata": {},
   "source": [
    "# Write a program to generate the reverse of a given number N. Print the corresponding reverse number.\n",
    "#Note : If a number has trailing zeros, then its reverse will not include them. For e.g., reverse of 10400 will be 401 instead of 00401.\n"
   ]
  },
  {
   "cell_type": "code",
   "execution_count": 11,
   "id": "4bd9a413",
   "metadata": {},
   "outputs": [
    {
     "name": "stdout",
     "output_type": "stream",
     "text": [
      "123\n",
      "321\n"
     ]
    }
   ],
   "source": [
    "N=int(input())\n",
    "rev=0\n",
    "while N > 0:\n",
    "    rem= N % 10;\n",
    "    rev=rev*10+rem\n",
    "    N= N//10\n",
    "print(rev)"
   ]
  },
  {
   "cell_type": "code",
   "execution_count": 12,
   "id": "47868298",
   "metadata": {},
   "outputs": [
    {
     "name": "stdout",
     "output_type": "stream",
     "text": [
      "654321\n"
     ]
    }
   ],
   "source": [
    "#Using String slicing\n",
    "num = 123456\n",
    "print(str(num)[::-1])"
   ]
  },
  {
   "cell_type": "markdown",
   "id": "0e30ef53",
   "metadata": {},
   "source": [
    "## Write a program to determine if given number is palindrome or not. Print true if it is palindrome, false otherwise.\n",
    "Palindrome are the numbers for which reverse is exactly same as the original one. For eg. 121"
   ]
  },
  {
   "cell_type": "code",
   "execution_count": null,
   "id": "234f8b52",
   "metadata": {},
   "outputs": [],
   "source": [
    "def checkPalindrome(num):\n",
    "    pass\n",
    "    pal=0\n",
    "    while num>0:\n",
    "        rem=num % 10\n",
    "        pal=pal*10+rem\n",
    "        num//=10\n",
    "    return pal\n",
    "num = int(input())\n",
    "isPalindrome = checkPalindrome(num)\n",
    "if(num==isPalindrome):\n",
    "\tprint('true')\n",
    "else:\n",
    "\tprint('false')"
   ]
  },
  {
   "cell_type": "markdown",
   "id": "38a8e896",
   "metadata": {},
   "source": []
  },
  {
   "cell_type": "code",
   "execution_count": 11,
   "id": "2c018b33",
   "metadata": {},
   "outputs": [
    {
     "name": "stdout",
     "output_type": "stream",
     "text": [
      "123\n",
      "2  4\n"
     ]
    }
   ],
   "source": [
    "#sun of even and odd of a number ex:1234 sum 6 4\n",
    "N=input()\n",
    "x=[int(i) for i in N]\n",
    "evensum=0\n",
    "oddsum=0\n",
    "for i in range(0,len(x)):\n",
    "    if(x[i] % 2 == 0):\n",
    "        evensum+=x[i]\n",
    "    else:\n",
    "        oddsum+=x[i]\n",
    "print(evensum,\"\",oddsum)"
   ]
  },
  {
   "cell_type": "markdown",
   "id": "0f3f5e16",
   "metadata": {},
   "source": [
    "a"
   ]
  },
  {
   "cell_type": "code",
   "execution_count": 27,
   "id": "4c6d7c8f",
   "metadata": {},
   "outputs": [
    {
     "name": "stdout",
     "output_type": "stream",
     "text": [
      "123\n",
      "2 4\n"
     ]
    }
   ],
   "source": [
    "num=input()\n",
    "x=[int(i) for i in num]\n",
    "e=0\n",
    "o=0\n",
    "for i in range(0,len(x)):\n",
    "    if x[i]%2==0:\n",
    "        e=e+x[i]\n",
    "    else:\n",
    "        o=o+x[i]\n",
    "print(e,o)"
   ]
  },
  {
   "cell_type": "code",
   "execution_count": 4,
   "id": "cd2c9086",
   "metadata": {},
   "outputs": [
    {
     "name": "stdout",
     "output_type": "stream",
     "text": [
      "11\n",
      "89\n"
     ]
    }
   ],
   "source": [
    "\n",
    "# Function for nth Fibonacci number\n",
    "n=int(input())\n",
    "def Fibonacci(n):\n",
    "    if n == 0:\n",
    "        return 0\n",
    "    elif n == 1:\n",
    "        return 1\n",
    "    else:\n",
    "        return Fibonacci(n-1)+Fibonacci(n-2)\n",
    "print(Fibonacci(n))"
   ]
  },
  {
   "cell_type": "code",
   "execution_count": 1,
   "id": "e65e753d",
   "metadata": {},
   "outputs": [
    {
     "name": "stdout",
     "output_type": "stream",
     "text": [
      "6\n",
      "21\n"
     ]
    }
   ],
   "source": []
  },
  {
   "cell_type": "code",
   "execution_count": 68,
   "id": "99dfd73d",
   "metadata": {},
   "outputs": [
    {
     "name": "stdout",
     "output_type": "stream",
     "text": [
      "6\n",
      "\n"
     ]
    }
   ],
   "source": [
    "n=int(input())\n",
    "f3=\"\"\n",
    "f1=0\n",
    "f2=1\n",
    "for i in range (f1, n+1):\n",
    "    f1=f3\n",
    "    f2=f3\n",
    "    f3 = f1 + f2\n",
    "    f1 = f2\n",
    "    f2 = f3\n",
    "print (f3)"
   ]
  },
  {
   "cell_type": "code",
   "execution_count": 16,
   "id": "d595c0cc",
   "metadata": {},
   "outputs": [
    {
     "name": "stdout",
     "output_type": "stream",
     "text": [
      "50\n",
      "12586269025\n"
     ]
    }
   ],
   "source": [
    "n=int(input())\n",
    "def fibonacci(n):\n",
    "    a = 0\n",
    "    b = 1\n",
    "    if n < 0:\n",
    "        print(\"Incorrect input\")\n",
    "    elif n == 0:\n",
    "        return a\n",
    "    elif n == 1:\n",
    "        return b\n",
    "    else:\n",
    "        for i in range(2, n+1):\n",
    "            \n",
    "            c = a + b\n",
    "            a = b\n",
    "            b = c\n",
    "        return b \n",
    "\n",
    "print(fibonacci(n))"
   ]
  },
  {
   "cell_type": "code",
   "execution_count": 27,
   "id": "963b9c53",
   "metadata": {},
   "outputs": [
    {
     "name": "stdout",
     "output_type": "stream",
     "text": [
      "121\n",
      "true\n"
     ]
    }
   ],
   "source": [
    "\n",
    "def isPalindrome(n):  \n",
    "    reverse = 0\n",
    "    reminder = 0\n",
    "    while(n != 0):\n",
    "        remainder = n % 10\n",
    "        reverse = reverse * 10 + remainder\n",
    "        n = int(n / 10)\n",
    "    return reverse\n",
    "num = int(input())\n",
    "\n",
    "reverse = isPalindrome(num)\n",
    "if(num == reverse):\n",
    "  print(\"true\")\n",
    "else:\n",
    "  print(\"false\")"
   ]
  },
  {
   "cell_type": "code",
   "execution_count": 1,
   "id": "ec7eaa78",
   "metadata": {},
   "outputs": [
    {
     "name": "stdout",
     "output_type": "stream",
     "text": [
      "B\n"
     ]
    }
   ],
   "source": [
    "if True or True:\n",
    "    if False and True or False:\n",
    "        print('A')\n",
    "    elif False and False or True and True:\n",
    "       print('B')\n",
    "    else:\n",
    "      print('C')\n",
    "else:\n",
    "     print('D')"
   ]
  },
  {
   "cell_type": "code",
   "execution_count": null,
   "id": "22b1920d",
   "metadata": {},
   "outputs": [],
   "source": []
  }
 ],
 "metadata": {
  "kernelspec": {
   "display_name": "Python 3 (ipykernel)",
   "language": "python",
   "name": "python3"
  },
  "language_info": {
   "codemirror_mode": {
    "name": "ipython",
    "version": 3
   },
   "file_extension": ".py",
   "mimetype": "text/x-python",
   "name": "python",
   "nbconvert_exporter": "python",
   "pygments_lexer": "ipython3",
   "version": "3.9.7"
  }
 },
 "nbformat": 4,
 "nbformat_minor": 5
}
