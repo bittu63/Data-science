{
 "cells": [
  {
   "cell_type": "code",
   "execution_count": 1,
   "id": "ed3cf6cf",
   "metadata": {},
   "outputs": [],
   "source": [
    "import json\n",
    "import requests"
   ]
  },
  {
   "cell_type": "code",
   "execution_count": 2,
   "id": "e12f7fa8",
   "metadata": {},
   "outputs": [
    {
     "name": "stdout",
     "output_type": "stream",
     "text": [
      "https://www.reddit.com/api/v1/authorize?client_id=yVuNBXDQxB9rTqNKf1oIVg&response_type=code&state=bittu_34&redirect_uri=https%3A%2F%2Fwww.google.com%2F&scope=read\n"
     ]
    }
   ],
   "source": [
    "data={'client_id':'yVuNBXDQxB9rTqNKf1oIVg','response_type':'code','state':'bittu_34','redirect_uri':'https://www.google.com/','scope':'read'}\n",
    "response=requests.get('https://www.reddit.com/api/v1/authorize',params=data)\n",
    "print(response.url)"
   ]
  },
  {
   "cell_type": "code",
   "execution_count": 22,
   "id": "f0c7bdcd",
   "metadata": {},
   "outputs": [
    {
     "name": "stdout",
     "output_type": "stream",
     "text": [
      "{\"error\": \"invalid_grant\"}\n"
     ]
    }
   ],
   "source": [
    "data1={'grant_type':'authorization_code','code':'f5u4grse650lyme6IjkniD1D12kKOA#_','redirect_uri':'https://www.google.com/'}\n",
    "r=requests.post('https://www.reddit.com/api/v1/access_token',data=data1,auth=('yVuNBXDQxB9rTqNKf1oIVg','T7Rc5z77jP757oj9V0R8R6jKtzz3qg'),headers={'User-Agent':'Biswanathswain'})\n",
    "print(r.text)"
   ]
  },
  {
   "cell_type": "code",
   "execution_count": null,
   "id": "1a2eec69",
   "metadata": {},
   "outputs": [],
   "source": []
  }
 ],
 "metadata": {
  "kernelspec": {
   "display_name": "Python 3 (ipykernel)",
   "language": "python",
   "name": "python3"
  },
  "language_info": {
   "codemirror_mode": {
    "name": "ipython",
    "version": 3
   },
   "file_extension": ".py",
   "mimetype": "text/x-python",
   "name": "python",
   "nbconvert_exporter": "python",
   "pygments_lexer": "ipython3",
   "version": "3.9.7"
  }
 },
 "nbformat": 4,
 "nbformat_minor": 5
}
