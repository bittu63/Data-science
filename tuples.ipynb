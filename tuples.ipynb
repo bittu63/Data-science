{
 "cells": [
  {
   "cell_type": "code",
   "execution_count": 1,
   "id": "c3c3c27a",
   "metadata": {},
   "outputs": [
    {
     "data": {
      "text/plain": [
       "(3, 4)"
      ]
     },
     "execution_count": 1,
     "metadata": {},
     "output_type": "execute_result"
    }
   ],
   "source": [
    "a=3,4\n",
    "a"
   ]
  },
  {
   "cell_type": "code",
   "execution_count": 2,
   "id": "5fc8800b",
   "metadata": {},
   "outputs": [],
   "source": [
    "def sum(a,b,c=0,d=0,e=0):\n",
    "    return a+b+c+d+e"
   ]
  },
  {
   "cell_type": "code",
   "execution_count": 5,
   "id": "0aa3d643",
   "metadata": {},
   "outputs": [
    {
     "name": "stdout",
     "output_type": "stream",
     "text": [
      "22\n"
     ]
    }
   ],
   "source": [
    "print(sum(2,3,4,6,7))"
   ]
  },
  {
   "cell_type": "code",
   "execution_count": 11,
   "id": "83b8f4d4",
   "metadata": {},
   "outputs": [],
   "source": [
    "def sum(a,b,*more):\n",
    "     print(a)\n",
    "     print(b)\n",
    "     print(more)"
   ]
  },
  {
   "cell_type": "code",
   "execution_count": 14,
   "id": "8b049bbd",
   "metadata": {},
   "outputs": [
    {
     "name": "stdout",
     "output_type": "stream",
     "text": [
      "4\n",
      "5\n",
      "(6, 7)\n"
     ]
    }
   ],
   "source": [
    "sum(4,5,6,7)"
   ]
  },
  {
   "cell_type": "code",
   "execution_count": 20,
   "id": "5d2f26f7",
   "metadata": {},
   "outputs": [],
   "source": [
    "def sum(a,b,*more):\n",
    "    ans=a+b\n",
    "    for i in more:\n",
    "        ans += i\n",
    "    return ans"
   ]
  },
  {
   "cell_type": "code",
   "execution_count": 23,
   "id": "f8d4f40f",
   "metadata": {},
   "outputs": [
    {
     "data": {
      "text/plain": [
       "55"
      ]
     },
     "execution_count": 23,
     "metadata": {},
     "output_type": "execute_result"
    }
   ],
   "source": [
    "sum(1,2,3,4,5,6,7,8,9,10)"
   ]
  },
  {
   "cell_type": "code",
   "execution_count": 36,
   "id": "1e5d243e",
   "metadata": {},
   "outputs": [
    {
     "name": "stdout",
     "output_type": "stream",
     "text": [
      "gdhIgHada\n",
      "h\n",
      "I\n",
      "H\n"
     ]
    }
   ],
   "source": [
    "String = input()\n",
    "\n",
    "for i in String:\n",
    "    #initialize a count variable\n",
    "    count = 0\n",
    "    for j in String:\n",
    "        #check for repeated characters\n",
    "        if i == j:\n",
    "            count+=1\n",
    "        #if character is found more than 1 time\n",
    "        #brerak the loop\n",
    "        if count > 1:\n",
    "            break\n",
    "    #print for nonrepeating characters\n",
    "    if count == 1:\n",
    "        print(i)\n",
    "    "
   ]
  },
  {
   "cell_type": "code",
   "execution_count": 38,
   "id": "890ab7c7",
   "metadata": {},
   "outputs": [
    {
     "name": "stdout",
     "output_type": "stream",
     "text": [
      "gdhIgHada\n",
      "h\n"
     ]
    }
   ],
   "source": [
    "def nonRepeatingChar(string):\n",
    "    for i in String:\n",
    "        count = 0\n",
    "        for j in String:\n",
    "            if i == j:\n",
    "                count+=1\n",
    "        \n",
    "            if count > 1:\n",
    "                break\n",
    "\n",
    "        if count == 1:\n",
    "            return i\n",
    "\n",
    "string = input()\n",
    "print(nonRepeatingChar(string))"
   ]
  },
  {
   "cell_type": "markdown",
   "id": "e0f762bc",
   "metadata": {},
   "source": [
    "# Dictionary"
   ]
  },
  {
   "cell_type": "code",
   "execution_count": 39,
   "id": "080edf71",
   "metadata": {},
   "outputs": [
    {
     "data": {
      "text/plain": [
       "dict"
      ]
     },
     "execution_count": 39,
     "metadata": {},
     "output_type": "execute_result"
    }
   ],
   "source": [
    "a={}\n",
    "type(a)"
   ]
  },
  {
   "cell_type": "code",
   "execution_count": 41,
   "id": "89e36423",
   "metadata": {},
   "outputs": [],
   "source": [
    "a={\"the\":1,\"a\":5,1000:\"abc\"}"
   ]
  },
  {
   "cell_type": "code",
   "execution_count": 42,
   "id": "9a527f7d",
   "metadata": {},
   "outputs": [
    {
     "data": {
      "text/plain": [
       "{'the': 1, 'a': 5, 1000: 'abc'}"
      ]
     },
     "execution_count": 42,
     "metadata": {},
     "output_type": "execute_result"
    }
   ],
   "source": [
    "a"
   ]
  },
  {
   "cell_type": "code",
   "execution_count": 43,
   "id": "f08c9469",
   "metadata": {},
   "outputs": [
    {
     "data": {
      "text/plain": [
       "3"
      ]
     },
     "execution_count": 43,
     "metadata": {},
     "output_type": "execute_result"
    }
   ],
   "source": [
    "len(a)"
   ]
  },
  {
   "cell_type": "code",
   "execution_count": 44,
   "id": "2d9f0b71",
   "metadata": {},
   "outputs": [],
   "source": [
    "b=a.copy()"
   ]
  },
  {
   "cell_type": "code",
   "execution_count": 45,
   "id": "0fc46dcd",
   "metadata": {},
   "outputs": [
    {
     "data": {
      "text/plain": [
       "{'the': 1, 'a': 5, 1000: 'abc'}"
      ]
     },
     "execution_count": 45,
     "metadata": {},
     "output_type": "execute_result"
    }
   ],
   "source": [
    "b"
   ]
  },
  {
   "cell_type": "code",
   "execution_count": 46,
   "id": "e10b7c57",
   "metadata": {},
   "outputs": [
    {
     "data": {
      "text/plain": [
       "{'a': 1, 'b': 2, 'c': 3}"
      ]
     },
     "execution_count": 46,
     "metadata": {},
     "output_type": "execute_result"
    }
   ],
   "source": [
    "c=dict([(\"a\",1),(\"b\",2),(\"c\",3)])\n",
    "c"
   ]
  },
  {
   "cell_type": "code",
   "execution_count": 48,
   "id": "ee02d6fa",
   "metadata": {},
   "outputs": [
    {
     "data": {
      "text/plain": [
       "{'abc': 10, 32: 10, 4: 10}"
      ]
     },
     "execution_count": 48,
     "metadata": {},
     "output_type": "execute_result"
    }
   ],
   "source": [
    "d=dict.fromkeys([\"abc\",32,4], 10)\n",
    "d"
   ]
  },
  {
   "cell_type": "code",
   "execution_count": 51,
   "id": "8f5d0e49",
   "metadata": {},
   "outputs": [
    {
     "data": {
      "text/plain": [
       "1"
      ]
     },
     "execution_count": 51,
     "metadata": {},
     "output_type": "execute_result"
    }
   ],
   "source": [
    "c[\"a\"]"
   ]
  },
  {
   "cell_type": "code",
   "execution_count": 53,
   "id": "bcfb2b18",
   "metadata": {},
   "outputs": [
    {
     "data": {
      "text/plain": [
       "1"
      ]
     },
     "execution_count": 53,
     "metadata": {},
     "output_type": "execute_result"
    }
   ],
   "source": [
    "c.get(\"a\")"
   ]
  },
  {
   "cell_type": "code",
   "execution_count": 54,
   "id": "0f17f974",
   "metadata": {},
   "outputs": [],
   "source": [
    "c.get(\"m\")"
   ]
  },
  {
   "cell_type": "code",
   "execution_count": 56,
   "id": "51cec6bb",
   "metadata": {},
   "outputs": [
    {
     "name": "stdout",
     "output_type": "stream",
     "text": [
      "None\n"
     ]
    }
   ],
   "source": [
    "print(c.get(\"m\"))"
   ]
  },
  {
   "cell_type": "code",
   "execution_count": 58,
   "id": "fea759a2",
   "metadata": {},
   "outputs": [
    {
     "data": {
      "text/plain": [
       "0"
      ]
     },
     "execution_count": 58,
     "metadata": {},
     "output_type": "execute_result"
    }
   ],
   "source": [
    "c.get(\"m\",0)"
   ]
  },
  {
   "cell_type": "code",
   "execution_count": 59,
   "id": "0a720786",
   "metadata": {},
   "outputs": [
    {
     "data": {
      "text/plain": [
       "dict_keys(['the', 'a', 1000])"
      ]
     },
     "execution_count": 59,
     "metadata": {},
     "output_type": "execute_result"
    }
   ],
   "source": [
    "a.keys()"
   ]
  },
  {
   "cell_type": "code",
   "execution_count": 60,
   "id": "8a29489c",
   "metadata": {},
   "outputs": [
    {
     "data": {
      "text/plain": [
       "dict_values([1, 5, 'abc'])"
      ]
     },
     "execution_count": 60,
     "metadata": {},
     "output_type": "execute_result"
    }
   ],
   "source": [
    "a.values()"
   ]
  },
  {
   "cell_type": "code",
   "execution_count": 61,
   "id": "6ef8152c",
   "metadata": {},
   "outputs": [
    {
     "data": {
      "text/plain": [
       "dict_items([('the', 1), ('a', 5), (1000, 'abc')])"
      ]
     },
     "execution_count": 61,
     "metadata": {},
     "output_type": "execute_result"
    }
   ],
   "source": [
    "a.items()"
   ]
  },
  {
   "cell_type": "code",
   "execution_count": 63,
   "id": "ee1e6d70",
   "metadata": {},
   "outputs": [
    {
     "name": "stdout",
     "output_type": "stream",
     "text": [
      "the\n",
      "a\n",
      "1000\n"
     ]
    }
   ],
   "source": [
    "for i in a:\n",
    "    print(i)"
   ]
  },
  {
   "cell_type": "code",
   "execution_count": 64,
   "id": "41afd27e",
   "metadata": {},
   "outputs": [
    {
     "name": "stdout",
     "output_type": "stream",
     "text": [
      "the 1\n",
      "a 5\n",
      "1000 abc\n"
     ]
    }
   ],
   "source": [
    "for i in a:\n",
    "    print(i,a[i])"
   ]
  },
  {
   "cell_type": "code",
   "execution_count": 65,
   "id": "66f81bdf",
   "metadata": {},
   "outputs": [
    {
     "name": "stdout",
     "output_type": "stream",
     "text": [
      "1\n",
      "5\n",
      "abc\n"
     ]
    }
   ],
   "source": [
    "for i in a.values():\n",
    "    print(i)"
   ]
  },
  {
   "cell_type": "code",
   "execution_count": 66,
   "id": "2e622db9",
   "metadata": {},
   "outputs": [
    {
     "data": {
      "text/plain": [
       "True"
      ]
     },
     "execution_count": 66,
     "metadata": {},
     "output_type": "execute_result"
    }
   ],
   "source": [
    "1000 in a"
   ]
  },
  {
   "cell_type": "code",
   "execution_count": 68,
   "id": "4c2d9633",
   "metadata": {},
   "outputs": [],
   "source": [
    "a.update(c) "
   ]
  },
  {
   "cell_type": "code",
   "execution_count": 69,
   "id": "6e8b05a8",
   "metadata": {},
   "outputs": [
    {
     "data": {
      "text/plain": [
       "{'the': 1, 'a': 1, 1000: 'abc', 'b': 2, 'c': 3}"
      ]
     },
     "execution_count": 69,
     "metadata": {},
     "output_type": "execute_result"
    }
   ],
   "source": [
    "a"
   ]
  },
  {
   "cell_type": "code",
   "execution_count": 70,
   "id": "6cc34669",
   "metadata": {},
   "outputs": [
    {
     "data": {
      "text/plain": [
       "'abc'"
      ]
     },
     "execution_count": 70,
     "metadata": {},
     "output_type": "execute_result"
    }
   ],
   "source": [
    "a.pop(1000)"
   ]
  },
  {
   "cell_type": "code",
   "execution_count": 71,
   "id": "edb715aa",
   "metadata": {},
   "outputs": [
    {
     "data": {
      "text/plain": [
       "{'the': 1, 'a': 1, 'b': 2, 'c': 3}"
      ]
     },
     "execution_count": 71,
     "metadata": {},
     "output_type": "execute_result"
    }
   ],
   "source": [
    "a"
   ]
  },
  {
   "cell_type": "code",
   "execution_count": 73,
   "id": "78c52d18",
   "metadata": {},
   "outputs": [],
   "source": [
    "del a[\"c\"]"
   ]
  },
  {
   "cell_type": "code",
   "execution_count": 74,
   "id": "c2aec911",
   "metadata": {},
   "outputs": [
    {
     "data": {
      "text/plain": [
       "{'the': 1, 'a': 1, 'b': 2}"
      ]
     },
     "execution_count": 74,
     "metadata": {},
     "output_type": "execute_result"
    }
   ],
   "source": [
    "a"
   ]
  },
  {
   "cell_type": "code",
   "execution_count": 75,
   "id": "fdf0fc13",
   "metadata": {},
   "outputs": [],
   "source": [
    "del a"
   ]
  },
  {
   "cell_type": "code",
   "execution_count": 76,
   "id": "b656bab7",
   "metadata": {},
   "outputs": [
    {
     "ename": "NameError",
     "evalue": "name 'a' is not defined",
     "output_type": "error",
     "traceback": [
      "\u001b[1;31m---------------------------------------------------------------------------\u001b[0m",
      "\u001b[1;31mNameError\u001b[0m                                 Traceback (most recent call last)",
      "\u001b[1;32m~\\AppData\\Local\\Temp/ipykernel_460/2167009006.py\u001b[0m in \u001b[0;36m<module>\u001b[1;34m\u001b[0m\n\u001b[1;32m----> 1\u001b[1;33m \u001b[0ma\u001b[0m\u001b[1;33m\u001b[0m\u001b[1;33m\u001b[0m\u001b[0m\n\u001b[0m",
      "\u001b[1;31mNameError\u001b[0m: name 'a' is not defined"
     ]
    }
   ],
   "source": [
    "a"
   ]
  },
  {
   "cell_type": "code",
   "execution_count": 77,
   "id": "1c26f21c",
   "metadata": {},
   "outputs": [],
   "source": [
    "a={\"a\":5,\"b\":7,\"c\":8}"
   ]
  },
  {
   "cell_type": "code",
   "execution_count": 78,
   "id": "a3cc8ddc",
   "metadata": {},
   "outputs": [
    {
     "data": {
      "text/plain": [
       "{'a': 5, 'b': 7, 'c': 8}"
      ]
     },
     "execution_count": 78,
     "metadata": {},
     "output_type": "execute_result"
    }
   ],
   "source": [
    "a"
   ]
  },
  {
   "cell_type": "code",
   "execution_count": 79,
   "id": "c48881ae",
   "metadata": {},
   "outputs": [],
   "source": [
    "a.clear()"
   ]
  },
  {
   "cell_type": "code",
   "execution_count": 80,
   "id": "c56abc11",
   "metadata": {},
   "outputs": [
    {
     "data": {
      "text/plain": [
       "{}"
      ]
     },
     "execution_count": 80,
     "metadata": {},
     "output_type": "execute_result"
    }
   ],
   "source": [
    "a"
   ]
  },
  {
   "cell_type": "code",
   "execution_count": 82,
   "id": "121992f0",
   "metadata": {},
   "outputs": [
    {
     "name": "stdout",
     "output_type": "stream",
     "text": [
      "[3, 5]\n"
     ]
    }
   ],
   "source": [
    "a = {1:2,'list':[1,2],3:5}\n",
    "a.pop('list')\n",
    "a['list'] = [3,5]\n",
    "print(a['list'])"
   ]
  },
  {
   "cell_type": "code",
   "execution_count": 1,
   "id": "4c51e3b9",
   "metadata": {},
   "outputs": [],
   "source": [
    "a=\"thi is word string havng many many words\""
   ]
  },
  {
   "cell_type": "code",
   "execution_count": 3,
   "id": "d0b8286d",
   "metadata": {},
   "outputs": [],
   "source": [
    "words=a.split()"
   ]
  },
  {
   "cell_type": "code",
   "execution_count": 4,
   "id": "7cde56f7",
   "metadata": {},
   "outputs": [
    {
     "data": {
      "text/plain": [
       "['thi', 'is', 'word', 'string', 'havng', 'many', 'many', 'words']"
      ]
     },
     "execution_count": 4,
     "metadata": {},
     "output_type": "execute_result"
    }
   ],
   "source": [
    "words"
   ]
  },
  {
   "cell_type": "code",
   "execution_count": 7,
   "id": "911db67c",
   "metadata": {},
   "outputs": [
    {
     "data": {
      "text/plain": [
       "{'thi': 1, 'is': 1, 'word': 1, 'string': 1, 'havng': 1, 'many': 2, 'words': 1}"
      ]
     },
     "execution_count": 7,
     "metadata": {},
     "output_type": "execute_result"
    }
   ],
   "source": [
    "d = {}\n",
    "for w in words:\n",
    "    if w in d:\n",
    "        d[w] = d[w]+1\n",
    "    else:\n",
    "        d[w]=1\n",
    "d   "
   ]
  },
  {
   "cell_type": "code",
   "execution_count": 8,
   "id": "9b4f4fda",
   "metadata": {},
   "outputs": [
    {
     "data": {
      "text/plain": [
       "{'thi': 1, 'is': 1, 'word': 1, 'string': 1, 'havng': 1, 'many': 2, 'words': 1}"
      ]
     },
     "execution_count": 8,
     "metadata": {},
     "output_type": "execute_result"
    }
   ],
   "source": [
    "d = {}\n",
    "for w in words:\n",
    "    d[w]=d.get(w,0)+1\n",
    "d"
   ]
  },
  {
   "cell_type": "code",
   "execution_count": 14,
   "id": "24d587bd",
   "metadata": {},
   "outputs": [],
   "source": [
    "k=2\n",
    "def wordfreq(a,k):\n",
    "    words=a.split()\n",
    "    d={}\n",
    "    for w in words:\n",
    "        d[w]=d.get(w,0)+1\n",
    "    for w in d:\n",
    "        if d[w]==k:\n",
    "            print(w)"
   ]
  },
  {
   "cell_type": "code",
   "execution_count": 15,
   "id": "1cd5d609",
   "metadata": {},
   "outputs": [
    {
     "name": "stdout",
     "output_type": "stream",
     "text": [
      "many\n"
     ]
    }
   ],
   "source": [
    "wordfreq(a,2)"
   ]
  },
  {
   "cell_type": "code",
   "execution_count": 26,
   "id": "b3404e66",
   "metadata": {},
   "outputs": [
    {
     "name": "stdout",
     "output_type": "stream",
     "text": [
      "4\n",
      "1 2 3 4\n"
     ]
    },
    {
     "data": {
      "text/plain": [
       "1"
      ]
     },
     "execution_count": 26,
     "metadata": {},
     "output_type": "execute_result"
    }
   ],
   "source": [
    "n=input().split()\n",
    "dict={}\n",
    "for i in n:\n",
    "    dict[i]=input().split()\n",
    "def acessss(dict):\n",
    "    count=0\n",
    "    for i in dict:\n",
    "        count=count+1\n",
    "    return count\n",
    "acessss(dict)"
   ]
  },
  {
   "cell_type": "code",
   "execution_count": 20,
   "id": "d7973d35",
   "metadata": {},
   "outputs": [
    {
     "name": "stdout",
     "output_type": "stream",
     "text": [
      "9\n",
      "1  3  1  4  5  6  4  8  3\n",
      "7\n"
     ]
    }
   ],
   "source": [
    "\n",
    "def maxDistance(arr, n):\n",
    "\n",
    "    mp = {}\n",
    "\n",
    "    maxDict = 0\n",
    "    for i in range(n):\n",
    "\n",
    "        if arr[i] not in mp.keys():\n",
    "            mp[arr[i]] = i\n",
    "        else:\n",
    "            maxDict = max(maxDict, i-mp[arr[i]])\n",
    "    return maxDict\n",
    "m=int(input())\n",
    "arr=[int(i)for i in input().split() ]\n",
    "n = len(arr)\n",
    "print (maxDistance(arr, n))"
   ]
  },
  {
   "cell_type": "code",
   "execution_count": 17,
   "id": "ee5202ea",
   "metadata": {},
   "outputs": [
    {
     "name": "stdout",
     "output_type": "stream",
     "text": [
      "4\n",
      "1 2 4 5\n"
     ]
    },
    {
     "data": {
      "text/plain": [
       "[1, 2, 4, 5]"
      ]
     },
     "execution_count": 17,
     "metadata": {},
     "output_type": "execute_result"
    }
   ],
   "source": [
    "n=int(input())\n",
    "arr=[int(i)for i in input().split() ]\n",
    "arr"
   ]
  },
  {
   "cell_type": "code",
   "execution_count": 22,
   "id": "5fad14ca",
   "metadata": {},
   "outputs": [
    {
     "name": "stdout",
     "output_type": "stream",
     "text": [
      "5 5\n"
     ]
    }
   ],
   "source": [
    "s = {1,2,3,5,4,2,3,1}\n",
    "print(len(s),end= \" \")\n",
    "s.add(4)\n",
    "s.add(3)\n",
    "print(len(s))"
   ]
  },
  {
   "cell_type": "markdown",
   "id": "8d65aef8",
   "metadata": {},
   "source": [
    "# sets"
   ]
  },
  {
   "cell_type": "code",
   "execution_count": 24,
   "id": "20fe294f",
   "metadata": {},
   "outputs": [
    {
     "data": {
      "text/plain": [
       "set"
      ]
     },
     "execution_count": 24,
     "metadata": {},
     "output_type": "execute_result"
    }
   ],
   "source": [
    "a={123,456,789}\n",
    "type(a)"
   ]
  },
  {
   "cell_type": "code",
   "execution_count": 25,
   "id": "d1c3f548",
   "metadata": {},
   "outputs": [],
   "source": [
    "a={1,2,\"abc\",4}"
   ]
  },
  {
   "cell_type": "code",
   "execution_count": 26,
   "id": "633c09b7",
   "metadata": {},
   "outputs": [
    {
     "data": {
      "text/plain": [
       "{1, 2, 4, 'abc'}"
      ]
     },
     "execution_count": 26,
     "metadata": {},
     "output_type": "execute_result"
    }
   ],
   "source": [
    "a"
   ]
  },
  {
   "cell_type": "code",
   "execution_count": 28,
   "id": "94b40570",
   "metadata": {},
   "outputs": [
    {
     "name": "stdout",
     "output_type": "stream",
     "text": [
      "1\n",
      "2\n",
      "abc\n",
      "4\n"
     ]
    }
   ],
   "source": [
    "for i in a:\n",
    "    print(i)"
   ]
  },
  {
   "cell_type": "code",
   "execution_count": 29,
   "id": "77c7d0f9",
   "metadata": {},
   "outputs": [],
   "source": [
    "b={3,4,2,11}"
   ]
  },
  {
   "cell_type": "code",
   "execution_count": 31,
   "id": "40a4878a",
   "metadata": {},
   "outputs": [
    {
     "data": {
      "text/plain": [
       "{2, 4}"
      ]
     },
     "execution_count": 31,
     "metadata": {},
     "output_type": "execute_result"
    }
   ],
   "source": [
    "a.intersection(b)"
   ]
  },
  {
   "cell_type": "code",
   "execution_count": 32,
   "id": "a6b8c17a",
   "metadata": {},
   "outputs": [
    {
     "data": {
      "text/plain": [
       "{1, 11, 2, 3, 4, 'abc'}"
      ]
     },
     "execution_count": 32,
     "metadata": {},
     "output_type": "execute_result"
    }
   ],
   "source": [
    "a.union(b)"
   ]
  },
  {
   "cell_type": "code",
   "execution_count": 33,
   "id": "6b7bd548",
   "metadata": {},
   "outputs": [
    {
     "data": {
      "text/plain": [
       "{1, 'abc'}"
      ]
     },
     "execution_count": 33,
     "metadata": {},
     "output_type": "execute_result"
    }
   ],
   "source": [
    "a.difference(b)"
   ]
  },
  {
   "cell_type": "code",
   "execution_count": 34,
   "id": "f8354316",
   "metadata": {},
   "outputs": [
    {
     "data": {
      "text/plain": [
       "{1, 11, 3, 'abc'}"
      ]
     },
     "execution_count": 34,
     "metadata": {},
     "output_type": "execute_result"
    }
   ],
   "source": [
    "a.symmetric_difference(b)"
   ]
  },
  {
   "cell_type": "code",
   "execution_count": 35,
   "id": "840d1e55",
   "metadata": {},
   "outputs": [],
   "source": [
    "c={3}"
   ]
  },
  {
   "cell_type": "code",
   "execution_count": 36,
   "id": "832210f3",
   "metadata": {},
   "outputs": [
    {
     "data": {
      "text/plain": [
       "True"
      ]
     },
     "execution_count": 36,
     "metadata": {},
     "output_type": "execute_result"
    }
   ],
   "source": [
    "c.issubset(b)"
   ]
  },
  {
   "cell_type": "code",
   "execution_count": 37,
   "id": "8f94585a",
   "metadata": {},
   "outputs": [
    {
     "data": {
      "text/plain": [
       "True"
      ]
     },
     "execution_count": 37,
     "metadata": {},
     "output_type": "execute_result"
    }
   ],
   "source": [
    "b.issuperset(c)"
   ]
  },
  {
   "cell_type": "code",
   "execution_count": 39,
   "id": "58948c49",
   "metadata": {},
   "outputs": [],
   "source": [
    "a.intersection_update(b)"
   ]
  },
  {
   "cell_type": "code",
   "execution_count": 40,
   "id": "6975bd19",
   "metadata": {},
   "outputs": [
    {
     "data": {
      "text/plain": [
       "{2, 4}"
      ]
     },
     "execution_count": 40,
     "metadata": {},
     "output_type": "execute_result"
    }
   ],
   "source": [
    "a"
   ]
  },
  {
   "cell_type": "code",
   "execution_count": 42,
   "id": "e5b24128",
   "metadata": {},
   "outputs": [],
   "source": [
    "a.symmetric_difference_update(b)"
   ]
  },
  {
   "cell_type": "code",
   "execution_count": 43,
   "id": "5aa038e9",
   "metadata": {},
   "outputs": [
    {
     "data": {
      "text/plain": [
       "{3, 11}"
      ]
     },
     "execution_count": 43,
     "metadata": {},
     "output_type": "execute_result"
    }
   ],
   "source": [
    "a"
   ]
  },
  {
   "cell_type": "code",
   "execution_count": 44,
   "id": "8f47ed1e",
   "metadata": {},
   "outputs": [
    {
     "ename": "AttributeError",
     "evalue": "'set' object has no attribute 'union_update'",
     "output_type": "error",
     "traceback": [
      "\u001b[1;31m---------------------------------------------------------------------------\u001b[0m",
      "\u001b[1;31mAttributeError\u001b[0m                            Traceback (most recent call last)",
      "\u001b[1;32m~\\AppData\\Local\\Temp/ipykernel_13932/261378673.py\u001b[0m in \u001b[0;36m<module>\u001b[1;34m\u001b[0m\n\u001b[1;32m----> 1\u001b[1;33m \u001b[0ma\u001b[0m\u001b[1;33m.\u001b[0m\u001b[0munion_update\u001b[0m\u001b[1;33m(\u001b[0m\u001b[0mb\u001b[0m\u001b[1;33m)\u001b[0m\u001b[1;33m\u001b[0m\u001b[1;33m\u001b[0m\u001b[0m\n\u001b[0m",
      "\u001b[1;31mAttributeError\u001b[0m: 'set' object has no attribute 'union_update'"
     ]
    }
   ],
   "source": [
    "a.union_update(b)"
   ]
  },
  {
   "cell_type": "code",
   "execution_count": 45,
   "id": "23ad571e",
   "metadata": {},
   "outputs": [
    {
     "data": {
      "text/plain": [
       "{1, 2, 3, 4}"
      ]
     },
     "execution_count": 45,
     "metadata": {},
     "output_type": "execute_result"
    }
   ],
   "source": [
    "n={1,2,3,4}\n",
    "n.add(4)\n",
    "n"
   ]
  },
  {
   "cell_type": "code",
   "execution_count": 46,
   "id": "6a9b4122",
   "metadata": {},
   "outputs": [
    {
     "data": {
      "text/plain": [
       "4"
      ]
     },
     "execution_count": 46,
     "metadata": {},
     "output_type": "execute_result"
    }
   ],
   "source": [
    "len(n)"
   ]
  },
  {
   "cell_type": "code",
   "execution_count": 49,
   "id": "db024694",
   "metadata": {},
   "outputs": [],
   "source": [
    "n.add(5)"
   ]
  },
  {
   "cell_type": "code",
   "execution_count": 50,
   "id": "5e562737",
   "metadata": {},
   "outputs": [
    {
     "data": {
      "text/plain": [
       "{1, 2, 3, 5}"
      ]
     },
     "execution_count": 50,
     "metadata": {},
     "output_type": "execute_result"
    }
   ],
   "source": [
    "n.remove(4)\n",
    "n"
   ]
  },
  {
   "cell_type": "code",
   "execution_count": 51,
   "id": "dbbd3d15",
   "metadata": {},
   "outputs": [
    {
     "data": {
      "text/plain": [
       "11"
      ]
     },
     "execution_count": 51,
     "metadata": {},
     "output_type": "execute_result"
    }
   ],
   "source": [
    "a.pop()"
   ]
  },
  {
   "cell_type": "code",
   "execution_count": 52,
   "id": "5b94e3e2",
   "metadata": {},
   "outputs": [
    {
     "data": {
      "text/plain": [
       "{3}"
      ]
     },
     "execution_count": 52,
     "metadata": {},
     "output_type": "execute_result"
    }
   ],
   "source": [
    "a"
   ]
  },
  {
   "cell_type": "code",
   "execution_count": 53,
   "id": "0e18166e",
   "metadata": {},
   "outputs": [],
   "source": [
    "n.discard(5)"
   ]
  },
  {
   "cell_type": "code",
   "execution_count": 54,
   "id": "74aa65a6",
   "metadata": {},
   "outputs": [
    {
     "data": {
      "text/plain": [
       "{1, 2, 3}"
      ]
     },
     "execution_count": 54,
     "metadata": {},
     "output_type": "execute_result"
    }
   ],
   "source": [
    "n"
   ]
  },
  {
   "cell_type": "code",
   "execution_count": 55,
   "id": "65eb95d4",
   "metadata": {},
   "outputs": [],
   "source": [
    "n.discard(50)"
   ]
  },
  {
   "cell_type": "code",
   "execution_count": 56,
   "id": "fc4dd49d",
   "metadata": {},
   "outputs": [
    {
     "ename": "KeyError",
     "evalue": "50",
     "output_type": "error",
     "traceback": [
      "\u001b[1;31m---------------------------------------------------------------------------\u001b[0m",
      "\u001b[1;31mKeyError\u001b[0m                                  Traceback (most recent call last)",
      "\u001b[1;32m~\\AppData\\Local\\Temp/ipykernel_13932/3596395663.py\u001b[0m in \u001b[0;36m<module>\u001b[1;34m\u001b[0m\n\u001b[1;32m----> 1\u001b[1;33m \u001b[0mn\u001b[0m\u001b[1;33m.\u001b[0m\u001b[0mremove\u001b[0m\u001b[1;33m(\u001b[0m\u001b[1;36m50\u001b[0m\u001b[1;33m)\u001b[0m\u001b[1;33m\u001b[0m\u001b[1;33m\u001b[0m\u001b[0m\n\u001b[0m",
      "\u001b[1;31mKeyError\u001b[0m: 50"
     ]
    }
   ],
   "source": [
    "n.remove(50)"
   ]
  },
  {
   "cell_type": "code",
   "execution_count": 61,
   "id": "e909ed7d",
   "metadata": {},
   "outputs": [],
   "source": [
    "def sumunique(l):\n",
    "    s=set()\n",
    "    for i in l:\n",
    "        s.add(i)\n",
    "    sum=0\n",
    "    for i in s:\n",
    "        sum = sum+i\n",
    "    return sum"
   ]
  },
  {
   "cell_type": "code",
   "execution_count": 62,
   "id": "9ddf5c66",
   "metadata": {},
   "outputs": [
    {
     "data": {
      "text/plain": [
       "21"
      ]
     },
     "execution_count": 62,
     "metadata": {},
     "output_type": "execute_result"
    }
   ],
   "source": [
    "sumunique([2,3,4,5,6,2,1,4,6])"
   ]
  },
  {
   "cell_type": "code",
   "execution_count": 4,
   "id": "e8195b6b",
   "metadata": {},
   "outputs": [
    {
     "name": "stdout",
     "output_type": "stream",
     "text": [
      "biswa biswa amit durga bena anam\n",
      "-1\n"
     ]
    }
   ],
   "source": [
    "def differentNames(l):\n",
    "    # Please add your code here\n",
    "    dict={}\n",
    "    for i in l:\n",
    "        dict[i]=dict.get(i,0) + 1\n",
    "        \n",
    "# Main\n",
    "names=input().strip().split()\n",
    "m=differentNames(names)\n",
    "if m:\n",
    "    for name in m:\n",
    "        print(name, m[name])\n",
    "else:\n",
    "    print(-1)"
   ]
  },
  {
   "cell_type": "code",
   "execution_count": 18,
   "id": "a6e4dd19",
   "metadata": {},
   "outputs": [
    {
     "name": "stdout",
     "output_type": "stream",
     "text": [
      "2 \n",
      "1 2 3\n",
      "4 5 6\n",
      "2\n"
     ]
    }
   ],
   "source": [
    "sizes=int(input())\n",
    "l=[]\n",
    "for i in range(sizes):\n",
    "    next_row=[int(i)for i in input().split()]\n",
    "    l.append(next_row)\n",
    "l\n",
    "print(len(l))"
   ]
  },
  {
   "cell_type": "code",
   "execution_count": 6,
   "id": "d33d2ab5",
   "metadata": {},
   "outputs": [
    {
     "name": "stdout",
     "output_type": "stream",
     "text": [
      "3\n",
      "1 2 3\n",
      "1 2 3\n",
      "4 5 6\n"
     ]
    },
    {
     "data": {
      "text/plain": [
       "{0: 1, 1: 1, 2: 1}"
      ]
     },
     "execution_count": 6,
     "metadata": {},
     "output_type": "execute_result"
    }
   ],
   "source": [
    "def checkTriangle(l):\n",
    "    dict={}\n",
    "    m=len(l)\n",
    "    for i in range(m):\n",
    "        dict[i]=dict.get(i,0) + 1\n",
    "    return dict \n",
    "sizes=int(input())\n",
    "l=[]\n",
    "for i in range(sizes):\n",
    "    next_row=[int(i) for i in input().split()]\n",
    "    l.append(next_row)\n",
    "checkTriangle(l)"
   ]
  },
  {
   "cell_type": "code",
   "execution_count": 9,
   "id": "14d75228",
   "metadata": {},
   "outputs": [
    {
     "name": "stdout",
     "output_type": "stream",
     "text": [
      "3\n",
      "1 2 3\n",
      "1 2 3\n",
      "4 5 6\n",
      "1\n"
     ]
    }
   ],
   "source": [
    "from collections import Counter\n",
    "n=int(input())\n",
    "a=[]\n",
    "cnt=0\n",
    "for i in range(n):\n",
    "    l=sorted(map(int,input().split()))\n",
    "    a.append(tuple(l))\n",
    "c=dict(Counter(a))\n",
    "for i in c.values():\n",
    "    if i==1:\n",
    "        cnt+=1\n",
    "print(cnt,flush=True)"
   ]
  },
  {
   "cell_type": "code",
   "execution_count": 11,
   "id": "3ae9d091",
   "metadata": {},
   "outputs": [
    {
     "name": "stdout",
     "output_type": "stream",
     "text": [
      "2\n"
     ]
    }
   ],
   "source": [
    "def getOddOccurrence(arr, arr_size):\n",
    "     \n",
    "    for i in range(0,arr_size):\n",
    "        count = 0\n",
    "        for j in range(0, arr_size):\n",
    "            if arr[i] == arr[j]:\n",
    "                count+=1\n",
    "             \n",
    "        if (count % 2 == 0):\n",
    "            return arr[i]\n",
    "         \n",
    "    return -1\n",
    "     \n",
    "     \n",
    "# driver code\n",
    "arr = [2, 3, 5, 4, 5, 2, 4, 3, 5, 2, 4, 4, 2 ]\n",
    "n = len(arr)\n",
    "print(getOddOccurrence(arr, n))"
   ]
  },
  {
   "cell_type": "code",
   "execution_count": 14,
   "id": "273c04d3",
   "metadata": {},
   "outputs": [
    {
     "name": "stdout",
     "output_type": "stream",
     "text": [
      "2\n",
      "1 2 3\n",
      "-1\n"
     ]
    }
   ],
   "source": [
    "def evenCount(arr,n):\n",
    "    for i in range(0,n):\n",
    "        count = 0\n",
    "        for j in range(0, n):\n",
    "            if arr[i] == arr[j]:\n",
    "                count+=1\n",
    "             \n",
    "        if (count % 2 == 0):\n",
    "            return arr[i]\n",
    "         \n",
    "    return -1\n",
    "# Main\n",
    "n=int(input())\n",
    "arr=list(int(i) for i in input().strip().split(' '))\n",
    "print(evenCount(arr,n))"
   ]
  },
  {
   "cell_type": "code",
   "execution_count": 16,
   "id": "d86c596d",
   "metadata": {},
   "outputs": [
    {
     "data": {
      "text/plain": [
       "[2, 4, 5, 8, 9]"
      ]
     },
     "execution_count": 16,
     "metadata": {},
     "output_type": "execute_result"
    }
   ],
   "source": [
    "l=[2,9,8,5,4]\n",
    "l.sort()\n",
    "l"
   ]
  },
  {
   "cell_type": "code",
   "execution_count": 44,
   "id": "64e3665a",
   "metadata": {},
   "outputs": [
    {
     "name": "stdout",
     "output_type": "stream",
     "text": [
      "4\n",
      "5 1 2 4\n",
      "3\n",
      "2\n"
     ]
    }
   ],
   "source": [
    "def printPairDiffK(l, k):\n",
    "    #############################\n",
    "    # PLEASE ADD YOUR CODE HERE #\n",
    "    #############################\n",
    "    count=0\n",
    "    for i in range(len(l)):\n",
    "        for j in range(i+1,len(l)):\n",
    "            if(l[i]-l[j]== k or l[j]-l[i]==k):\n",
    "                count=count+1\n",
    "    return count\n",
    "# Main\n",
    "n=int(input())\n",
    "l=list(int(i) for i in input().strip().split(' '))\n",
    "k=int(input())\n",
    "print(printPairDiffK(l, k))"
   ]
  },
  {
   "cell_type": "code",
   "execution_count": 41,
   "id": "f94f8ae5",
   "metadata": {},
   "outputs": [
    {
     "name": "stdout",
     "output_type": "stream",
     "text": [
      "4\n",
      "5 1 2 4\n",
      "3\n",
      "3\n"
     ]
    }
   ],
   "source": [
    "\n",
    "def count(l, k) :\n",
    "\n",
    "    l.sort();\n",
    "    cnt = 0;\n",
    "    i = 0; j = 1;\n",
    "\n",
    "    while (i <len(l) and j < len(l)) :\n",
    "        if j <= i :\n",
    "            j = i + 1\n",
    "        else :\n",
    "            j = j\n",
    "\n",
    "        while (j < len(l) and (arr[j] - arr[i]) == k) :\n",
    "            \n",
    "            j += 1;\n",
    "        cnt += (n - j);\n",
    "        i += 1\n",
    "    return cnt\n",
    "\n",
    "n=int(input())\n",
    "l=list(int(i) for i in input().strip().split(' '))\n",
    "k=int(input())\n",
    "print(printPairDiffK(l, k))"
   ]
  },
  {
   "cell_type": "code",
   "execution_count": 43,
   "id": "d2ddae13",
   "metadata": {},
   "outputs": [
    {
     "name": "stdout",
     "output_type": "stream",
     "text": [
      "3\n"
     ]
    }
   ],
   "source": [
    "# Python3 implementation of the approach\n",
    "\n",
    "# Function to return the count of required pairs\n",
    "def count(arr, n, k) :\n",
    "\n",
    "\t# Sort the given array\n",
    "\tarr.sort();\n",
    "\n",
    "\t# To store the required count\n",
    "\tcnt = 0;\n",
    "\ti = 0; j = 1;\n",
    "\n",
    "\twhile (i < n and j < n) :\n",
    "\n",
    "\t\t# Update j such that it is always > i\n",
    "\t\tif j <= i :\n",
    "\t\t\tj = i + 1\n",
    "\t\telse :\n",
    "\t\t\tj = j\n",
    "\n",
    "\t\t# Find the first element arr[j] such that\n",
    "\t\t# (arr[j] - arr[i]) >= K\n",
    "\t\t# This is because after this element, all\n",
    "\t\t# the elements will have absolute difference\n",
    "\t\t# with arr[i] >= k and the count of\n",
    "\t\t# valid pairs will be (n - j)\n",
    "\t\twhile (j < n and (arr[j] - arr[i]) < k) :\n",
    "\t\t\tj += 1;\n",
    "\n",
    "\t\t# Update the count of valid pairs\n",
    "\t\tcnt += (n - j);\n",
    "\n",
    "\t\t# Get to the next element to repeat the steps\n",
    "\t\ti += 1;\n",
    "\n",
    "\t# Return the count\n",
    "\treturn cnt;\n",
    "\n",
    "\n",
    "# Driver code\n",
    "if __name__ == \"__main__\" :\n",
    "\n",
    "\tarr = [ 5,1,2,4 ];\n",
    "\tn = len(arr);\n",
    "\tk = 3;\n",
    "\n",
    "\tprint(count(arr, n, k));\n",
    "\t\n",
    "# This code is contributed by AnkitRai01\n"
   ]
  },
  {
   "cell_type": "code",
   "execution_count": null,
   "id": "bc118e1b",
   "metadata": {},
   "outputs": [],
   "source": []
  }
 ],
 "metadata": {
  "kernelspec": {
   "display_name": "Python 3 (ipykernel)",
   "language": "python",
   "name": "python3"
  },
  "language_info": {
   "codemirror_mode": {
    "name": "ipython",
    "version": 3
   },
   "file_extension": ".py",
   "mimetype": "text/x-python",
   "name": "python",
   "nbconvert_exporter": "python",
   "pygments_lexer": "ipython3",
   "version": "3.9.7"
  }
 },
 "nbformat": 4,
 "nbformat_minor": 5
}
