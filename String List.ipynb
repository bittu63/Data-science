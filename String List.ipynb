{
 "cells": [
  {
   "cell_type": "code",
   "execution_count": 1,
   "id": "10349ad6",
   "metadata": {},
   "outputs": [
    {
     "data": {
      "text/plain": [
       "'abc def'"
      ]
     },
     "execution_count": 1,
     "metadata": {},
     "output_type": "execute_result"
    }
   ],
   "source": [
    "s=\"abc def\"\n",
    "s"
   ]
  },
  {
   "cell_type": "code",
   "execution_count": 6,
   "id": "1096a69b",
   "metadata": {},
   "outputs": [
    {
     "name": "stdout",
     "output_type": "stream",
     "text": [
      "abcd\n"
     ]
    }
   ],
   "source": [
    "s = \"abcd\"\n",
    "print(s)"
   ]
  },
  {
   "cell_type": "code",
   "execution_count": 3,
   "id": "880c0671",
   "metadata": {},
   "outputs": [
    {
     "data": {
      "text/plain": [
       "(str, str)"
      ]
     },
     "execution_count": 3,
     "metadata": {},
     "output_type": "execute_result"
    }
   ],
   "source": [
    "c=\"d\"\n",
    "d='d'\n",
    "type(c),type(d)"
   ]
  },
  {
   "cell_type": "code",
   "execution_count": 7,
   "id": "374fbac4",
   "metadata": {},
   "outputs": [
    {
     "data": {
      "text/plain": [
       "'edcba'"
      ]
     },
     "execution_count": 7,
     "metadata": {},
     "output_type": "execute_result"
    }
   ],
   "source": [
    "s=\"abcde\"\n",
    "s[::-1]"
   ]
  },
  {
   "cell_type": "code",
   "execution_count": 8,
   "id": "91a8d687",
   "metadata": {},
   "outputs": [
    {
     "data": {
      "text/plain": [
       "'gh'"
      ]
     },
     "execution_count": 8,
     "metadata": {},
     "output_type": "execute_result"
    }
   ],
   "source": [
    "s = \"abcdefghi\"\n",
    "s[-3:-1]"
   ]
  },
  {
   "cell_type": "code",
   "execution_count": 6,
   "id": "185ebc7e",
   "metadata": {},
   "outputs": [
    {
     "name": "stdout",
     "output_type": "stream",
     "text": [
      "malayalam\n",
      "true\n"
     ]
    }
   ],
   "source": [
    "#Given a string, determine if it is a palindrome, considering only alphanumeric characters.\n",
    "from sys import stdin\n",
    "def isPalindrome(string) :\n",
    "\t# Your code goes here\n",
    "\tans=string[::-1]\n",
    "\treturn ans\n",
    "string = str(input())\n",
    "ans = isPalindrome(string)\n",
    "\n",
    "if ans ==string:\n",
    "    print('true')\n",
    "else :\n",
    "    print('false')"
   ]
  },
  {
   "cell_type": "code",
   "execution_count": 21,
   "id": "23da18d0",
   "metadata": {
    "scrolled": true
   },
   "outputs": [
    {
     "name": "stdout",
     "output_type": "stream",
     "text": [
      "cod\n",
      "c\n",
      "co\n",
      "cod\n",
      "o\n",
      "od\n",
      "d\n"
     ]
    }
   ],
   "source": [
    "#For a given input string(str), write a function to print all the possible substrings.\n",
    "def get_all_substrings(n):\n",
    "    length = len(string)\n",
    "    ls = [] \n",
    "    for i in range(length):\n",
    "        for j in range(i,length):\n",
    "             ls.append(string[i:j+1])\n",
    "    k=print(*ls,sep=\"\\n\")\n",
    "    return k\n",
    "string=str(input())\n",
    "get_all_substrings(string)"
   ]
  },
  {
   "cell_type": "code",
   "execution_count": 23,
   "id": "aacad077",
   "metadata": {},
   "outputs": [
    {
     "data": {
      "text/plain": [
       "list"
      ]
     },
     "execution_count": 23,
     "metadata": {},
     "output_type": "execute_result"
    }
   ],
   "source": [
    "list1=[]\n",
    "type(list1)"
   ]
  },
  {
   "cell_type": "code",
   "execution_count": 25,
   "id": "a0a045d5",
   "metadata": {},
   "outputs": [
    {
     "data": {
      "text/plain": [
       "list"
      ]
     },
     "execution_count": 25,
     "metadata": {},
     "output_type": "execute_result"
    }
   ],
   "source": [
    "list2=list()\n",
    "type(list2)"
   ]
  },
  {
   "cell_type": "code",
   "execution_count": 2,
   "id": "9fd9292c",
   "metadata": {},
   "outputs": [
    {
     "data": {
      "text/plain": [
       "list"
      ]
     },
     "execution_count": 2,
     "metadata": {},
     "output_type": "execute_result"
    }
   ],
   "source": [
    "list3=list([1,2,3])\n",
    "type(list3)"
   ]
  },
  {
   "cell_type": "code",
   "execution_count": 2,
   "id": "1781f84e",
   "metadata": {},
   "outputs": [
    {
     "name": "stdout",
     "output_type": "stream",
     "text": [
      "hfhdhi\n",
      "ihdhfh\n"
     ]
    }
   ],
   "source": [
    "str1=str(input())\n",
    "print(str1[::-1])"
   ]
  },
  {
   "cell_type": "code",
   "execution_count": 37,
   "id": "294b3045",
   "metadata": {},
   "outputs": [
    {
     "name": "stdout",
     "output_type": "stream",
     "text": [
      "12 56 2 3\n"
     ]
    },
    {
     "data": {
      "text/plain": [
       "0"
      ]
     },
     "execution_count": 37,
     "metadata": {},
     "output_type": "execute_result"
    }
   ],
   "source": []
  },
  {
   "cell_type": "code",
   "execution_count": 31,
   "id": "0a3477a9",
   "metadata": {},
   "outputs": [
    {
     "name": "stdout",
     "output_type": "stream",
     "text": [
      "12 34 56 78\n"
     ]
    },
    {
     "data": {
      "text/plain": [
       "[[12, 34, 56, 78]]"
      ]
     },
     "execution_count": 31,
     "metadata": {},
     "output_type": "execute_result"
    }
   ],
   "source": [
    "n=[int(i) for i in input().split()]\n",
    "a=[n]\n",
    "a"
   ]
  },
  {
   "cell_type": "code",
   "execution_count": 50,
   "id": "96f0ac2f",
   "metadata": {},
   "outputs": [
    {
     "name": "stdout",
     "output_type": "stream",
     "text": [
      "6\n",
      "12 34 56 78 456 32\n"
     ]
    },
    {
     "ename": "IndexError",
     "evalue": "list assignment index out of range",
     "output_type": "error",
     "traceback": [
      "\u001b[1;31m---------------------------------------------------------------------------\u001b[0m",
      "\u001b[1;31mIndexError\u001b[0m                                Traceback (most recent call last)",
      "\u001b[1;32m~\\AppData\\Local\\Temp/ipykernel_7896/228919067.py\u001b[0m in \u001b[0;36m<module>\u001b[1;34m\u001b[0m\n\u001b[0;32m      8\u001b[0m             \u001b[0mprint\u001b[0m \u001b[1;33m(\u001b[0m\u001b[0marr\u001b[0m\u001b[1;33m[\u001b[0m\u001b[0mi\u001b[0m\u001b[1;33m]\u001b[0m\u001b[1;33m,\u001b[0m\u001b[0mend\u001b[0m\u001b[1;33m=\u001b[0m\u001b[1;34m' '\u001b[0m\u001b[1;33m)\u001b[0m\u001b[1;33m\u001b[0m\u001b[1;33m\u001b[0m\u001b[0m\n\u001b[0;32m      9\u001b[0m \u001b[0msizes\u001b[0m \u001b[1;33m=\u001b[0m \u001b[0mint\u001b[0m\u001b[1;33m(\u001b[0m\u001b[0minput\u001b[0m\u001b[1;33m(\u001b[0m\u001b[1;33m)\u001b[0m\u001b[1;33m)\u001b[0m\u001b[1;33m\u001b[0m\u001b[1;33m\u001b[0m\u001b[0m\n\u001b[1;32m---> 10\u001b[1;33m \u001b[0ma\u001b[0m\u001b[1;33m[\u001b[0m\u001b[0msizes\u001b[0m\u001b[1;33m]\u001b[0m\u001b[1;33m=\u001b[0m\u001b[1;33m[\u001b[0m\u001b[0mint\u001b[0m\u001b[1;33m(\u001b[0m\u001b[0mi\u001b[0m\u001b[1;33m)\u001b[0m\u001b[1;32mfor\u001b[0m \u001b[0mi\u001b[0m \u001b[1;32min\u001b[0m \u001b[0minput\u001b[0m\u001b[1;33m(\u001b[0m\u001b[1;33m)\u001b[0m\u001b[1;33m.\u001b[0m\u001b[0msplit\u001b[0m\u001b[1;33m(\u001b[0m\u001b[1;33m)\u001b[0m\u001b[1;33m]\u001b[0m\u001b[1;33m\u001b[0m\u001b[1;33m\u001b[0m\u001b[0m\n\u001b[0m\u001b[0;32m     11\u001b[0m \u001b[0mprintLeaders\u001b[0m\u001b[1;33m(\u001b[0m\u001b[0marr\u001b[0m\u001b[1;33m,\u001b[0m \u001b[0mlen\u001b[0m\u001b[1;33m(\u001b[0m\u001b[0marr\u001b[0m\u001b[1;33m)\u001b[0m\u001b[1;33m)\u001b[0m\u001b[1;33m\u001b[0m\u001b[1;33m\u001b[0m\u001b[0m\n",
      "\u001b[1;31mIndexError\u001b[0m: list assignment index out of range"
     ]
    }
   ],
   "source": [
    "def printLeaders(arr,size):\n",
    "     \n",
    "    for i in range(0, size):\n",
    "        for j in range(i+1, size):\n",
    "            if arr[i]<=arr[j]:\n",
    "                break\n",
    "        if j == size-1: \n",
    "            print (arr[i],end=' ')\n",
    "sizes = int(input())\n",
    "a[i]=[int(i)for i in input().split()]\n",
    "printLeaders(arr, len(arr))"
   ]
  },
  {
   "cell_type": "code",
   "execution_count": null,
   "id": "116f6b57",
   "metadata": {},
   "outputs": [],
   "source": [
    "sizes = input().split()\n",
    "m=int(sizes[0])\n",
    "n=int(sizes[1])\n",
    "l=[]\n",
    "for i in range(m):\n",
    "    next_row=[int(i)for i in input().split()]\n",
    "    l.append(next_row)\n",
    "l"
   ]
  }
 ],
 "metadata": {
  "kernelspec": {
   "display_name": "Python 3 (ipykernel)",
   "language": "python",
   "name": "python3"
  },
  "language_info": {
   "codemirror_mode": {
    "name": "ipython",
    "version": 3
   },
   "file_extension": ".py",
   "mimetype": "text/x-python",
   "name": "python",
   "nbconvert_exporter": "python",
   "pygments_lexer": "ipython3",
   "version": "3.9.7"
  }
 },
 "nbformat": 4,
 "nbformat_minor": 5
}
