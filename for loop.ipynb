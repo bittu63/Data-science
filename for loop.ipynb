{
 "cells": [
  {
   "cell_type": "code",
   "execution_count": 1,
   "id": "dacd4ddb",
   "metadata": {},
   "outputs": [
    {
     "name": "stdout",
     "output_type": "stream",
     "text": [
      "1 3 "
     ]
    }
   ],
   "source": [
    "for i in range(1,5,2):\n",
    "    print(i,end=' ')"
   ]
  },
  {
   "cell_type": "code",
   "execution_count": 10,
   "id": "b4202b91",
   "metadata": {},
   "outputs": [
    {
     "name": "stdout",
     "output_type": "stream",
     "text": [
      "6\n",
      "1\n",
      "3\n",
      "5\n"
     ]
    }
   ],
   "source": [
    "x=int(input())\n",
    "for i in range(1,x+1,2):\n",
    "    print(i)"
   ]
  },
  {
   "cell_type": "code",
   "execution_count": 11,
   "id": "8179e5e5",
   "metadata": {},
   "outputs": [
    {
     "name": "stdout",
     "output_type": "stream",
     "text": [
      "3\n",
      "10\n",
      "3\n",
      "6\n",
      "9\n"
     ]
    }
   ],
   "source": [
    "a=int(input())\n",
    "b=int(input())\n",
    "for i in range (a , b , 3 ):\n",
    "    print(i)"
   ]
  },
  {
   "cell_type": "code",
   "execution_count": 78,
   "id": "fd569115",
   "metadata": {},
   "outputs": [
    {
     "name": "stdout",
     "output_type": "stream",
     "text": [
      "5\n",
      "5 11 14 17 23 "
     ]
    }
   ],
   "source": [
    "x=int(input())\n",
    "count=0\n",
    "n=1\n",
    "while count<x:\n",
    "    a=3*n+2\n",
    "    if(a % 4 != 0):\n",
    "        count=count+1\n",
    "        print(a,end=\" \")\n",
    "    n=n+1"
   ]
  },
  {
   "cell_type": "code",
   "execution_count": 69,
   "id": "406bd7c2",
   "metadata": {},
   "outputs": [
    {
     "data": {
      "text/plain": [
       "2"
      ]
     },
     "execution_count": 69,
     "metadata": {},
     "output_type": "execute_result"
    }
   ],
   "source": [
    "a=2\n",
    "b= 2 % 4\n",
    "b"
   ]
  },
  {
   "cell_type": "code",
   "execution_count": 84,
   "id": "5bfe66c0",
   "metadata": {},
   "outputs": [
    {
     "name": "stdout",
     "output_type": "stream",
     "text": [
      "10\n",
      "1\n",
      "55\n"
     ]
    }
   ],
   "source": [
    "n =int(input())\n",
    "c =int(input())\n",
    "if c == 1:\n",
    "    sum=0\n",
    "    for i in range(1 , n+1, 1 ):\n",
    "        sum=sum+i\n",
    "    print(sum)\n",
    "elif c == 2:\n",
    "    mult=1\n",
    "    for i in range(1,n+1,1):\n",
    "        mult=mult*i\n",
    "    print(mult)\n",
    "else:\n",
    "    print(\"-1\")"
   ]
  },
  {
   "cell_type": "code",
   "execution_count": 86,
   "id": "cb52e5b7",
   "metadata": {},
   "outputs": [
    {
     "name": "stdout",
     "output_type": "stream",
     "text": [
      "10\n",
      "2\n",
      "3\n",
      "5\n",
      "7\n"
     ]
    }
   ],
   "source": [
    "n=int(input())\n",
    "k=2\n",
    "while k<=n:\n",
    "    d=2\n",
    "    flag=False\n",
    "    while d < k:\n",
    "        if k % d == 0:\n",
    "            flag = True\n",
    "            break;\n",
    "        d=d+1\n",
    "    if (not(flag)):\n",
    "        print(k)\n",
    "    k=k+1"
   ]
  },
  {
   "cell_type": "code",
   "execution_count": 91,
   "id": "ff541846",
   "metadata": {},
   "outputs": [
    {
     "name": "stdout",
     "output_type": "stream",
     "text": [
      "18\n",
      "4\n"
     ]
    }
   ],
   "source": [
    "import math\n",
    "n=int(input())\n",
    "m=int(math.sqrt(n))\n",
    "print(m)"
   ]
  },
  {
   "cell_type": "code",
   "execution_count": 93,
   "id": "bf52cac4",
   "metadata": {},
   "outputs": [
    {
     "name": "stdout",
     "output_type": "stream",
     "text": [
      "1\n",
      "2\n",
      "3\n",
      "4\n",
      "5\n",
      "6\n",
      "7\n",
      "8\n",
      "9\n",
      "this will only printed ance at the end \n"
     ]
    }
   ],
   "source": [
    "for i in range(1,10):\n",
    "    print(i)\n",
    "else:\n",
    "    print(\"this will only printed ance at the end \")"
   ]
  },
  {
   "cell_type": "code",
   "execution_count": 96,
   "id": "dea989c8",
   "metadata": {},
   "outputs": [
    {
     "name": "stdout",
     "output_type": "stream",
     "text": [
      "1\n",
      "2\n",
      "3\n",
      "4\n",
      "5\n",
      "6\n",
      "7\n",
      "8\n",
      "9\n",
      "this will be printed just once in the end \n"
     ]
    }
   ],
   "source": [
    "n=10\n",
    "i=1\n",
    "while i<n:\n",
    "    print(i)\n",
    "    i=i+1\n",
    "else:\n",
    "    print(\"this will be printed just once in the end \")"
   ]
  },
  {
   "cell_type": "code",
   "execution_count": 98,
   "id": "b7a19249",
   "metadata": {},
   "outputs": [
    {
     "name": "stdout",
     "output_type": "stream",
     "text": [
      "1\n",
      "2\n",
      "3\n",
      "4\n"
     ]
    }
   ],
   "source": [
    "for i in range(1,10):\n",
    "    if i==5:\n",
    "        break\n",
    "    print(i)\n",
    "else:\n",
    "    print(\"this will only printed ance at the end \")"
   ]
  },
  {
   "cell_type": "code",
   "execution_count": 103,
   "id": "b988742f",
   "metadata": {},
   "outputs": [
    {
     "name": "stdout",
     "output_type": "stream",
     "text": [
      "45\n",
      "2\n",
      "4\n",
      "6\n",
      "8\n",
      "10\n",
      "12\n",
      "16\n",
      "18\n",
      "20\n",
      "22\n",
      "24\n",
      "26\n",
      "30\n",
      "32\n",
      "34\n",
      "36\n",
      "38\n",
      "40\n",
      "44\n"
     ]
    }
   ],
   "source": [
    "#continue\n",
    "n=int(input())\n",
    "for i in range(2,n+1,2):\n",
    "    if i % 7 == 0:\n",
    "        continue\n",
    "    print(i)"
   ]
  },
  {
   "cell_type": "code",
   "execution_count": 107,
   "id": "7eb9b306",
   "metadata": {},
   "outputs": [
    {
     "name": "stdout",
     "output_type": "stream",
     "text": [
      "100\n",
      "2\n",
      "4\n",
      "6\n",
      "8\n",
      "10\n",
      "12\n"
     ]
    },
    {
     "ename": "KeyboardInterrupt",
     "evalue": "",
     "output_type": "error",
     "traceback": [
      "\u001b[1;31m---------------------------------------------------------------------------\u001b[0m",
      "\u001b[1;31mKeyboardInterrupt\u001b[0m                         Traceback (most recent call last)",
      "\u001b[1;32m~\\AppData\\Local\\Temp/ipykernel_4848/985790510.py\u001b[0m in \u001b[0;36m<module>\u001b[1;34m\u001b[0m\n\u001b[0;32m      1\u001b[0m \u001b[0mn\u001b[0m\u001b[1;33m=\u001b[0m\u001b[0mint\u001b[0m\u001b[1;33m(\u001b[0m\u001b[0minput\u001b[0m\u001b[1;33m(\u001b[0m\u001b[1;33m)\u001b[0m\u001b[1;33m)\u001b[0m\u001b[1;33m\u001b[0m\u001b[1;33m\u001b[0m\u001b[0m\n\u001b[0;32m      2\u001b[0m \u001b[0mi\u001b[0m\u001b[1;33m=\u001b[0m\u001b[1;36m2\u001b[0m\u001b[1;33m\u001b[0m\u001b[1;33m\u001b[0m\u001b[0m\n\u001b[1;32m----> 3\u001b[1;33m \u001b[1;32mwhile\u001b[0m \u001b[0mi\u001b[0m \u001b[1;33m<=\u001b[0m \u001b[0mn\u001b[0m\u001b[1;33m:\u001b[0m\u001b[1;33m\u001b[0m\u001b[1;33m\u001b[0m\u001b[0m\n\u001b[0m\u001b[0;32m      4\u001b[0m     \u001b[1;32mif\u001b[0m \u001b[0mi\u001b[0m \u001b[1;33m%\u001b[0m \u001b[1;36m7\u001b[0m \u001b[1;33m==\u001b[0m \u001b[1;36m0\u001b[0m\u001b[1;33m:\u001b[0m\u001b[1;33m\u001b[0m\u001b[1;33m\u001b[0m\u001b[0m\n\u001b[0;32m      5\u001b[0m         \u001b[1;32mcontinue\u001b[0m\u001b[1;33m\u001b[0m\u001b[1;33m\u001b[0m\u001b[0m\n",
      "\u001b[1;31mKeyboardInterrupt\u001b[0m: "
     ]
    }
   ],
   "source": [
    "n=int(input())\n",
    "i=2\n",
    "while i <= n:\n",
    "    if i % 7 == 0:\n",
    "        continue\n",
    "    print(i)\n",
    "    i=i+2   #in while loop this increment line is also skipped because of continue in case of for loop increment is done automatic"
   ]
  },
  {
   "cell_type": "code",
   "execution_count": 4,
   "id": "31e08f03",
   "metadata": {},
   "outputs": [
    {
     "name": "stdout",
     "output_type": "stream",
     "text": [
      "5\n",
      "0b101\n"
     ]
    }
   ],
   "source": [
    "n=int(input())\n",
    "print(bin(n))"
   ]
  },
  {
   "cell_type": "code",
   "execution_count": 13,
   "id": "e358aa12",
   "metadata": {},
   "outputs": [
    {
     "name": "stdout",
     "output_type": "stream",
     "text": [
      "5\n",
      "101\n"
     ]
    }
   ],
   "source": [
    "n=int(input())\n",
    "temp = format(n, \"b\")\n",
    "print(temp)"
   ]
  },
  {
   "cell_type": "code",
   "execution_count": 25,
   "id": "81d6796f",
   "metadata": {},
   "outputs": [
    {
     "name": "stdout",
     "output_type": "stream",
     "text": [
      "101\n",
      "5\n"
     ]
    }
   ],
   "source": [
    "n=list(input())\n",
    "dec=0\n",
    "for i in range(len(n)):\n",
    "    ext1= n.pop()\n",
    "    if ext1 == \"1\":\n",
    "        dec= dec + pow(2,i)\n",
    "print(dec)"
   ]
  },
  {
   "cell_type": "code",
   "execution_count": 16,
   "id": "c1a90049",
   "metadata": {},
   "outputs": [
    {
     "name": "stdout",
     "output_type": "stream",
     "text": [
      "10\n",
      "55\n"
     ]
    }
   ],
   "source": [
    "\n",
    "n=int(input())\n",
    "\n",
    "def Fibonacci(n):\n",
    "    sum=0\n",
    "    if n == 0:\n",
    "        return 0\n",
    "    elif n == 1:\n",
    "        return 1\n",
    "    else:\n",
    "            return  Fibonacci(n-1)+Fibonacci(n-2)\n",
    "print(Fibonacci(n))"
   ]
  },
  {
   "cell_type": "code",
   "execution_count": 28,
   "id": "63960361",
   "metadata": {},
   "outputs": [
    {
     "name": "stdout",
     "output_type": "stream",
     "text": [
      "12451245"
     ]
    }
   ],
   "source": [
    "i=1\n",
    "while i<3:\n",
    "    j=0\n",
    "    while j<5:\n",
    "        j = j +1\n",
    "        if j==3:\n",
    "            continue\n",
    "        print(j,end=\"\")\n",
    "    i = i +1"
   ]
  },
  {
   "cell_type": "code",
   "execution_count": 109,
   "id": "9da30b05",
   "metadata": {
    "scrolled": true
   },
   "outputs": [
    {
     "name": "stdout",
     "output_type": "stream",
     "text": [
      "15\n",
      "1\n",
      "2\n",
      "3\n",
      "5\n",
      "8\n",
      "13\n",
      "21\n",
      "34\n",
      "55\n",
      "89\n",
      "144\n",
      "233\n",
      "377\n",
      "610\n"
     ]
    }
   ],
   "source": [
    "n= int(input())\n",
    "a=0\n",
    "b=1\n",
    "sum=0\n",
    "for i in range(1,n,1):\n",
    "    c=a+b\n",
    "    a=b\n",
    "    b=c\n",
    "    print(b)"
   ]
  },
  {
   "cell_type": "markdown",
   "id": "d0744117",
   "metadata": {},
   "source": [
    "Given a number N find the sum of all the even valued terms in the fibonacci sequence less than or equal to N. Try generating only even fibonacci numbers instead of iterating over all Fibonacci numbers.\n",
    "Input Format\n",
    "Line 1 : An integer N\n",
    "Output Format\n",
    "Total Sum"
   ]
  },
  {
   "cell_type": "code",
   "execution_count": 4,
   "id": "fd4d4931",
   "metadata": {},
   "outputs": [
    {
     "name": "stdout",
     "output_type": "stream",
     "text": [
      "400\n",
      "188\n"
     ]
    }
   ],
   "source": [
    "\n",
    "def evenFibSum(n) :\n",
    "    if (n < 2) :\n",
    "        return 0\n",
    "    a= 0\n",
    "    b= 2\n",
    "    sm= a + b\n",
    "    while (b <= n) :\n",
    "        c = 4 * b + a\n",
    "        if (c > n) :\n",
    "            break\n",
    "        a = b\n",
    "        b = c\n",
    "        sm = sm + b\n",
    "    return sm\n",
    "n =int(input())\n",
    "print(evenFibSum(n))"
   ]
  },
  {
   "cell_type": "markdown",
   "id": "c32cc90a",
   "metadata": {},
   "source": [
    "Find and return number of trailing 0s in n factorial without calculating n factorial.\n",
    "Sample Input\n",
    "50\n",
    "Sample Output\n",
    "12"
   ]
  },
  {
   "cell_type": "code",
   "execution_count": 12,
   "id": "06f88628",
   "metadata": {},
   "outputs": [
    {
     "name": "stdout",
     "output_type": "stream",
     "text": [
      "100\n",
      "24\n"
     ]
    }
   ],
   "source": [
    "def findTrailingZeros(n):\n",
    "    if(n < 0):\n",
    "        return -1\n",
    "    count = 0\n",
    "    while(n >= 5):\n",
    "        n //= 5\n",
    "        count += n\n",
    " \n",
    "    return count\n",
    "\n",
    "n = int(input())\n",
    "print(findTrailingZeros(n))"
   ]
  },
  {
   "cell_type": "code",
   "execution_count": 9,
   "id": "07330b10",
   "metadata": {},
   "outputs": [
    {
     "data": {
      "text/plain": [
       "20"
      ]
     },
     "execution_count": 9,
     "metadata": {},
     "output_type": "execute_result"
    }
   ],
   "source": [
    "n=100\n",
    "a=n // 5\n",
    "a"
   ]
  },
  {
   "cell_type": "code",
   "execution_count": null,
   "id": "01258897",
   "metadata": {},
   "outputs": [],
   "source": [
    "from sys import stdin\n",
    "import sys\n",
    "\n",
    "def findLeaders(elements, n):\n",
    "    # List to return.\n",
    "    answer = []     \n",
    "\n",
    "    for i in range(n):\n",
    "        for j in range(i+1, n):\n",
    "            # If outer loop picked element is less than inner loop element.\n",
    "            if(elements[i] <= elements[j]):\n",
    "                break\n",
    "        else:\n",
    "            answer.append(elements[i])\n",
    "    return answer\n",
    "# Taking input using fast I/O.\n",
    "def takeInput():\n",
    "    n = int(input())\n",
    "    elements = list(map(int, input().strip().split(\" \")))\n",
    "\n",
    "    return n, elements\n",
    "\n",
    "# Main.\n",
    "t = int(input())\n",
    "while t:\n",
    "    n, elements = takeInput()\n",
    "    answer = findLeaders(elements, n)\n",
    "    for ans in answer:\n",
    "        print(ans, end=\" \")\n",
    "    print()\n",
    "    t = t-1"
   ]
  }
 ],
 "metadata": {
  "kernelspec": {
   "display_name": "Python 3 (ipykernel)",
   "language": "python",
   "name": "python3"
  },
  "language_info": {
   "codemirror_mode": {
    "name": "ipython",
    "version": 3
   },
   "file_extension": ".py",
   "mimetype": "text/x-python",
   "name": "python",
   "nbconvert_exporter": "python",
   "pygments_lexer": "ipython3",
   "version": "3.9.7"
  }
 },
 "nbformat": 4,
 "nbformat_minor": 5
}
