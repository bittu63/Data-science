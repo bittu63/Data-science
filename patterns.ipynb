{
 "cells": [
  {
   "cell_type": "markdown",
   "id": "4b2e8ea7",
   "metadata": {},
   "source": [
    "* * * *\n",
    "* * * *\n",
    "* * * *\n",
    "* * * *"
   ]
  },
  {
   "cell_type": "code",
   "execution_count": 22,
   "id": "5c9928b2",
   "metadata": {},
   "outputs": [
    {
     "name": "stdout",
     "output_type": "stream",
     "text": [
      "7\n",
      "7777777\n",
      "7777777\n",
      "7777777\n",
      "7777777\n",
      "7777777\n",
      "7777777\n",
      "7777777\n"
     ]
    }
   ],
   "source": [
    "n=int(input())\n",
    "i=1\n",
    "while i<=n:\n",
    "    j=1\n",
    "    while j<=n:\n",
    "        print(n,end=\"\")\n",
    "        j=j+1\n",
    "    print()\n",
    "    i=i+1"
   ]
  },
  {
   "cell_type": "markdown",
   "id": "e6a4dc0c",
   "metadata": {},
   "source": [
    "## square patterns\n",
    "### 1 1 1 1\n",
    "### 2 2 2 2 \n",
    "### 3 3 3 3\n",
    "### 4 4 4 4"
   ]
  },
  {
   "cell_type": "code",
   "execution_count": 9,
   "id": "e89e62d4",
   "metadata": {},
   "outputs": [
    {
     "name": "stdout",
     "output_type": "stream",
     "text": [
      "4\n",
      "1111\n",
      "2222\n",
      "3333\n",
      "4444\n"
     ]
    }
   ],
   "source": [
    "n=int(input())\n",
    "i=1\n",
    "while i<=n:\n",
    "    j=1\n",
    "    while j<=n:\n",
    "        print(i,end=\"\")\n",
    "        j=j+1\n",
    "    print()\n",
    "    i=i+1"
   ]
  },
  {
   "cell_type": "markdown",
   "id": "2a6b751e",
   "metadata": {},
   "source": [
    "1234\n",
    "1234\n",
    "1234\n",
    "1234"
   ]
  },
  {
   "cell_type": "code",
   "execution_count": 11,
   "id": "6cc635a8",
   "metadata": {},
   "outputs": [
    {
     "name": "stdout",
     "output_type": "stream",
     "text": [
      "4\n",
      "1234\n",
      "1234\n",
      "1234\n",
      "1234\n"
     ]
    }
   ],
   "source": [
    "n=int(input())\n",
    "i=1\n",
    "while i<=n:\n",
    "    j=1\n",
    "    while j<=n:\n",
    "        print(j,end=\"\")\n",
    "        j=j+1\n",
    "    print()\n",
    "    i=i+1"
   ]
  },
  {
   "cell_type": "markdown",
   "id": "7a31f34b",
   "metadata": {},
   "source": [
    "4321\n",
    "4321\n",
    "4321\n",
    "4321"
   ]
  },
  {
   "cell_type": "code",
   "execution_count": 1,
   "id": "95b771eb",
   "metadata": {},
   "outputs": [
    {
     "name": "stdout",
     "output_type": "stream",
     "text": [
      "4\n",
      "4321\n",
      "4321\n",
      "4321\n",
      "4321\n"
     ]
    }
   ],
   "source": [
    "n=int(input())\n",
    "i=1\n",
    "while i<=n:\n",
    "    j=1\n",
    "    while j<=n:\n",
    "        print(n-j+1,end=\"\")\n",
    "        j=j+1\n",
    "    print()\n",
    "    i=i+1"
   ]
  },
  {
   "cell_type": "code",
   "execution_count": 33,
   "id": "48228a6d",
   "metadata": {},
   "outputs": [
    {
     "name": "stdout",
     "output_type": "stream",
     "text": [
      "4\n",
      "1234\n",
      "234\n",
      "34\n",
      "4\n"
     ]
    }
   ],
   "source": [
    "n=int(input())\n",
    "i=1\n",
    "while i<=n:\n",
    "    j=i\n",
    "    while j<=n:\n",
    "        print(j,end=\"\")\n",
    "        j=j+1\n",
    "    print()\n",
    "    i=i+1"
   ]
  },
  {
   "cell_type": "code",
   "execution_count": 4,
   "id": "c7066fac",
   "metadata": {},
   "outputs": [
    {
     "name": "stdout",
     "output_type": "stream",
     "text": [
      "4\n",
      "1\n",
      "22\n",
      "333\n",
      "4444\n"
     ]
    }
   ],
   "source": [
    "n=int(input())\n",
    "i=1\n",
    "while i<=n:\n",
    "    j=1\n",
    "    while j<=i:\n",
    "        print(i,end=\"\")\n",
    "        j=j+1\n",
    "    print()\n",
    "    i=i+1"
   ]
  },
  {
   "cell_type": "markdown",
   "id": "01d22f49",
   "metadata": {},
   "source": [
    "1\n",
    "12\n",
    "123\n",
    "1234"
   ]
  },
  {
   "cell_type": "code",
   "execution_count": 31,
   "id": "8f891152",
   "metadata": {},
   "outputs": [
    {
     "name": "stdout",
     "output_type": "stream",
     "text": [
      "4\n",
      "1\n",
      "12\n",
      "123\n",
      "1234\n"
     ]
    }
   ],
   "source": [
    "n=int(input())\n",
    "i=1\n",
    "while i<=n:\n",
    "    j=1\n",
    "    while j<=i:\n",
    "        print(j,end=\"\")\n",
    "        j=j+1\n",
    "    print()\n",
    "    i=i+1"
   ]
  },
  {
   "cell_type": "markdown",
   "id": "410f0022",
   "metadata": {},
   "source": [
    "1\n",
    "23\n",
    "345\n",
    "4567"
   ]
  },
  {
   "cell_type": "code",
   "execution_count": 32,
   "id": "4f83e9e3",
   "metadata": {},
   "outputs": [
    {
     "name": "stdout",
     "output_type": "stream",
     "text": [
      "4\n",
      "1\n",
      "23\n",
      "345\n",
      "4567\n"
     ]
    }
   ],
   "source": [
    "n=int(input())\n",
    "i=1\n",
    "while i<=n:\n",
    "    j=1\n",
    "    p=i\n",
    "    while j<=i:\n",
    "        print(p,end=\"\")\n",
    "        j=j+1\n",
    "        p=p+1\n",
    "    print()\n",
    "    i=i+1"
   ]
  },
  {
   "cell_type": "markdown",
   "id": "373145f7",
   "metadata": {},
   "source": [
    "1\n",
    "23\n",
    "456\n",
    "78910"
   ]
  },
  {
   "cell_type": "code",
   "execution_count": 39,
   "id": "9a585c5a",
   "metadata": {},
   "outputs": [
    {
     "name": "stdout",
     "output_type": "stream",
     "text": [
      "4\n",
      "1 \n",
      "2 3 \n",
      "4 5 6 \n",
      "7 8 9 10 \n"
     ]
    }
   ],
   "source": [
    "n=int(input())\n",
    "i=1\n",
    "k=1\n",
    "while i<=n:\n",
    "    j=1\n",
    "    while j<=i:\n",
    "        print(k,end=\" \")\n",
    "        j=j+1\n",
    "        k=k+1\n",
    "    print()\n",
    "    i=i+1"
   ]
  },
  {
   "cell_type": "markdown",
   "id": "ac26d3a5",
   "metadata": {},
   "source": [
    "*\n",
    "**\n",
    "***\n",
    "****"
   ]
  },
  {
   "cell_type": "code",
   "execution_count": 40,
   "id": "a19c20c0",
   "metadata": {},
   "outputs": [
    {
     "name": "stdout",
     "output_type": "stream",
     "text": [
      "4\n",
      "*\n",
      "**\n",
      "***\n",
      "****\n"
     ]
    }
   ],
   "source": [
    "n=int(input())\n",
    "i=1\n",
    "while i <= n:\n",
    "    j=1\n",
    "    while j <= i:\n",
    "        print(\"*\",end=\"\")\n",
    "        j=j+1\n",
    "    print()\n",
    "    i=i+1"
   ]
  },
  {
   "cell_type": "markdown",
   "id": "7101b461",
   "metadata": {},
   "source": [
    "1\n",
    "22\n",
    "333\n",
    "4444"
   ]
  },
  {
   "cell_type": "code",
   "execution_count": 41,
   "id": "1d979c2c",
   "metadata": {},
   "outputs": [
    {
     "name": "stdout",
     "output_type": "stream",
     "text": [
      "4\n",
      "1\n",
      "22\n",
      "333\n",
      "4444\n"
     ]
    }
   ],
   "source": [
    "n=int(input())\n",
    "i=1\n",
    "while i <= n:\n",
    "    j=1\n",
    "    while j <= i:\n",
    "        print(i,end=\"\")\n",
    "        j=j+1\n",
    "    print()\n",
    "    i=i+1"
   ]
  },
  {
   "cell_type": "markdown",
   "id": "cee441e6",
   "metadata": {},
   "source": [
    "1\n",
    "21\n",
    "321\n",
    "4321"
   ]
  },
  {
   "cell_type": "code",
   "execution_count": 4,
   "id": "ba1079ba",
   "metadata": {},
   "outputs": [
    {
     "name": "stdout",
     "output_type": "stream",
     "text": [
      "4\n",
      "1 \n",
      "2 1 \n",
      "3 2 1 \n",
      "4 3 2 1 \n"
     ]
    }
   ],
   "source": [
    "n=int(input())\n",
    "i=1\n",
    "while i <= n:\n",
    "    j=1\n",
    "    while j <= i:\n",
    "        print((i-j)+1,end=\" \")\n",
    "        j=j+1\n",
    "    print()\n",
    "    i=i+1"
   ]
  },
  {
   "cell_type": "markdown",
   "id": "1ec5cefd",
   "metadata": {},
   "source": [
    "\n",
    "11111\n",
    "2222\n",
    "333\n",
    "44\n",
    "5"
   ]
  },
  {
   "cell_type": "code",
   "execution_count": 24,
   "id": "273f5b54",
   "metadata": {},
   "outputs": [
    {
     "name": "stdout",
     "output_type": "stream",
     "text": [
      "5\n",
      "11111\n",
      "2222\n",
      "333\n",
      "44\n",
      "5\n"
     ]
    }
   ],
   "source": [
    "n=int(input())\n",
    "i=n\n",
    "p=1\n",
    "while i > 0:\n",
    "    j=1\n",
    "    while j <= i:\n",
    "        print(p,end=\"\")\n",
    "        j=j+1\n",
    "    print()\n",
    "    p=p+1\n",
    "    i=i-1"
   ]
  },
  {
   "cell_type": "code",
   "execution_count": 5,
   "id": "8bb522ab",
   "metadata": {},
   "outputs": [
    {
     "name": "stdout",
     "output_type": "stream",
     "text": [
      "2\n"
     ]
    },
    {
     "data": {
      "text/plain": [
       "'B'"
      ]
     },
     "execution_count": 5,
     "metadata": {},
     "output_type": "execute_result"
    }
   ],
   "source": [
    "k=int(input())\n",
    "x=ord(\"A\")\n",
    "asciiTarget= x + k -1\n",
    "charTarget= chr(asciiTarget)\n",
    "charTarget"
   ]
  },
  {
   "cell_type": "code",
   "execution_count": 7,
   "id": "948c806e",
   "metadata": {},
   "outputs": [
    {
     "name": "stdout",
     "output_type": "stream",
     "text": [
      "4\n",
      "ABCD\n",
      "ABCD\n",
      "ABCD\n",
      "ABCD\n"
     ]
    }
   ],
   "source": [
    "n=int(input())\n",
    "i=1\n",
    "while i <= n:\n",
    "    j=1\n",
    "    while j <= n:\n",
    "        charp=chr(ord(\"A\") +  j -1)\n",
    "        print(charp,end=\"\")\n",
    "        j= j + 1\n",
    "    print()\n",
    "    i = i+1"
   ]
  },
  {
   "cell_type": "markdown",
   "id": "24612923",
   "metadata": {},
   "source": [
    "ABCD\n",
    "BCDE\n",
    "CDEF\n",
    "DEFG"
   ]
  },
  {
   "cell_type": "code",
   "execution_count": 3,
   "id": "69000617",
   "metadata": {},
   "outputs": [
    {
     "name": "stdout",
     "output_type": "stream",
     "text": [
      "4\n",
      "ABCD\n",
      "BCDE\n",
      "CDEF\n",
      "DEFG\n"
     ]
    }
   ],
   "source": [
    "n=int(input())\n",
    "i=1\n",
    "while i <= n:\n",
    "    j=1\n",
    "    start_char=chr(ord('A') + i - 1)\n",
    "    while j <= n:\n",
    "        charp=chr(ord(start_char) +  j -1)\n",
    "        print(charp,end=\"\")\n",
    "        j= j + 1\n",
    "    print()\n",
    "    i = i+1"
   ]
  },
  {
   "cell_type": "markdown",
   "id": "39cbc787",
   "metadata": {},
   "source": [
    "A\n",
    "BB\n",
    "CCC\n",
    "DDDD"
   ]
  },
  {
   "cell_type": "code",
   "execution_count": 8,
   "id": "178c496e",
   "metadata": {},
   "outputs": [
    {
     "name": "stdout",
     "output_type": "stream",
     "text": [
      "7\n",
      "A\n",
      "BB\n",
      "CCC\n",
      "DDDD\n",
      "EEEEE\n",
      "FFFFFF\n",
      "GGGGGGG\n"
     ]
    }
   ],
   "source": [
    "n=int(input())\n",
    "i=1\n",
    "while i <= n:\n",
    "    j=1\n",
    "    while j <= i:\n",
    "        charp=chr(ord('A') + i-1)\n",
    "        print(charp,end=\"\")\n",
    "        j= j + 1\n",
    "    print()\n",
    "    i = i+1"
   ]
  },
  {
   "cell_type": "markdown",
   "id": "e465c6b2",
   "metadata": {},
   "source": [
    "A\n",
    "BC\n",
    "CDE\n",
    "DEFG"
   ]
  },
  {
   "cell_type": "code",
   "execution_count": 27,
   "id": "5b653cc6",
   "metadata": {},
   "outputs": [
    {
     "name": "stdout",
     "output_type": "stream",
     "text": [
      "4\n",
      "A\n",
      "BC\n",
      "CDE\n",
      "DEFG\n"
     ]
    }
   ],
   "source": [
    "n=int(input())\n",
    "i=1\n",
    "while i <= n:\n",
    "    j=1\n",
    "    start_char=chr(ord('A') + i-1)\n",
    "    while j <= i:\n",
    "        charp=chr(ord(start_char) +  j -1)\n",
    "        print(charp,end=\"\")\n",
    "        j= j + 1\n",
    "    print()\n",
    "    i = i+1"
   ]
  },
  {
   "cell_type": "markdown",
   "id": "c349d4f3",
   "metadata": {},
   "source": [
    "E \n",
    "DE\n",
    "CDE\n",
    "BCDE\n",
    "ABCDE"
   ]
  },
  {
   "cell_type": "code",
   "execution_count": 156,
   "id": "945b21bd",
   "metadata": {},
   "outputs": [
    {
     "name": "stdout",
     "output_type": "stream",
     "text": [
      "5\n",
      "\f",
      "\u000b",
      "CBA@?>=<;:9876543210/.-,+*)('&%$#\"! \u001f\u001e",
      "\u001d",
      "\u001c",
      "\u001b\u001a\u0019\u0018\u0017\u0016\u0015\u0014\u0013\u0012\u0011\u0010\u000f\u000e\n",
      "\u0007\u0006\u0005\u0004\u0003\u0002\u0001\u0000"
     ]
    },
    {
     "ename": "ValueError",
     "evalue": "chr() arg not in range(0x110000)",
     "output_type": "error",
     "traceback": [
      "\u001b[1;31m---------------------------------------------------------------------------\u001b[0m",
      "\u001b[1;31mValueError\u001b[0m                                Traceback (most recent call last)",
      "\u001b[1;32m~\\AppData\\Local\\Temp/ipykernel_7924/3130980685.py\u001b[0m in \u001b[0;36m<module>\u001b[1;34m\u001b[0m\n\u001b[0;32m      6\u001b[0m     \u001b[0mstart_char\u001b[0m\u001b[1;33m=\u001b[0m\u001b[0mchr\u001b[0m\u001b[1;33m(\u001b[0m\u001b[0mord\u001b[0m\u001b[1;33m(\u001b[0m\u001b[1;34m'A'\u001b[0m\u001b[1;33m)\u001b[0m \u001b[1;33m+\u001b[0m \u001b[0mi\u001b[0m\u001b[1;33m-\u001b[0m\u001b[1;36m1\u001b[0m\u001b[1;33m)\u001b[0m\u001b[1;33m\u001b[0m\u001b[1;33m\u001b[0m\u001b[0m\n\u001b[0;32m      7\u001b[0m     \u001b[1;32mwhile\u001b[0m \u001b[0mj\u001b[0m \u001b[1;33m<=\u001b[0m \u001b[0mn\u001b[0m\u001b[1;33m+\u001b[0m\u001b[0mi\u001b[0m\u001b[1;33m-\u001b[0m\u001b[1;36m1\u001b[0m\u001b[1;33m:\u001b[0m\u001b[1;33m\u001b[0m\u001b[1;33m\u001b[0m\u001b[0m\n\u001b[1;32m----> 8\u001b[1;33m         \u001b[0mcharp\u001b[0m\u001b[1;33m=\u001b[0m\u001b[0mchr\u001b[0m\u001b[1;33m(\u001b[0m\u001b[0mord\u001b[0m\u001b[1;33m(\u001b[0m\u001b[0mstart_char\u001b[0m\u001b[1;33m)\u001b[0m\u001b[1;33m+\u001b[0m \u001b[0mj\u001b[0m\u001b[1;33m-\u001b[0m\u001b[1;36m1\u001b[0m\u001b[1;33m)\u001b[0m\u001b[1;33m\u001b[0m\u001b[1;33m\u001b[0m\u001b[0m\n\u001b[0m\u001b[0;32m      9\u001b[0m         \u001b[0mprint\u001b[0m\u001b[1;33m(\u001b[0m\u001b[0mcharp\u001b[0m\u001b[1;33m,\u001b[0m\u001b[0mend\u001b[0m\u001b[1;33m=\u001b[0m\u001b[1;34m\"\"\u001b[0m\u001b[1;33m)\u001b[0m\u001b[1;33m\u001b[0m\u001b[1;33m\u001b[0m\u001b[0m\n\u001b[0;32m     10\u001b[0m         \u001b[0mj\u001b[0m\u001b[1;33m=\u001b[0m \u001b[0mj\u001b[0m \u001b[1;33m-\u001b[0m \u001b[1;36m1\u001b[0m\u001b[1;33m\u001b[0m\u001b[1;33m\u001b[0m\u001b[0m\n",
      "\u001b[1;31mValueError\u001b[0m: chr() arg not in range(0x110000)"
     ]
    }
   ],
   "source": [
    "n=int(input())\n",
    "i=1\n",
    "p=n\n",
    "while i <= n:\n",
    "    j=n\n",
    "    start_char=chr(ord('A') + i-1)\n",
    "    while j <= n+i-1:\n",
    "        charp=chr(ord(start_char)+ j-1)\n",
    "        print(charp,end=\"\")\n",
    "        j= j - 1\n",
    "        p=p+1\n",
    "    print()\n",
    "    i = i+1"
   ]
  },
  {
   "cell_type": "code",
   "execution_count": 33,
   "id": "43e44f4e",
   "metadata": {},
   "outputs": [
    {
     "name": "stdout",
     "output_type": "stream",
     "text": [
      "4\n",
      "****\n",
      "***\n",
      "**\n",
      "*\n"
     ]
    }
   ],
   "source": [
    "n=int(input())\n",
    "i=1\n",
    "while i <= n:\n",
    "    j=1\n",
    "    while j <= n-i+1:\n",
    "        print(\"*\",end=\"\")\n",
    "        j=j+1\n",
    "    print()\n",
    "    i=i+1"
   ]
  },
  {
   "cell_type": "code",
   "execution_count": 45,
   "id": "10c29b38",
   "metadata": {},
   "outputs": [
    {
     "name": "stdout",
     "output_type": "stream",
     "text": [
      "4\n",
      "4444\n",
      "333\n",
      "22\n",
      "1\n"
     ]
    }
   ],
   "source": [
    "n=int(input())\n",
    "i=1\n",
    "p=n\n",
    "while i <= n:\n",
    "    j=1\n",
    "    while j <= n-i+1:\n",
    "        print(p,end=\"\")\n",
    "        j=j+1\n",
    "    print()\n",
    "    p=p-1\n",
    "    i=i+1"
   ]
  },
  {
   "cell_type": "code",
   "execution_count": 53,
   "id": "378af4e0",
   "metadata": {},
   "outputs": [
    {
     "name": "stdout",
     "output_type": "stream",
     "text": [
      "4\n",
      "   1\n",
      "  12\n",
      " 123\n",
      "1234\n"
     ]
    }
   ],
   "source": [
    "n=int(input())\n",
    "i=1\n",
    "while i <= n:\n",
    "    spaces=1\n",
    "    while spaces <= n-i:\n",
    "        print(\" \",end=\"\")\n",
    "        spaces=spaces+1\n",
    "    j=1\n",
    "    while j <= i:\n",
    "        print(j,end=\"\")\n",
    "        j=j+1\n",
    "    print()\n",
    "    i=i+1"
   ]
  },
  {
   "cell_type": "code",
   "execution_count": 71,
   "id": "8f296511",
   "metadata": {},
   "outputs": [
    {
     "name": "stdout",
     "output_type": "stream",
     "text": [
      "4\n",
      "   1\n",
      "  121\n",
      " 12323\n",
      "1234345\n"
     ]
    }
   ],
   "source": [
    "n=int(input())\n",
    "i=1\n",
    "while i <= n:\n",
    "    spaces=1\n",
    "    while spaces <= n-i:\n",
    "        print(\" \",end=\"\")\n",
    "        spaces=spaces+1\n",
    "    j=1\n",
    "    while j <= i:\n",
    "        print(j,end=\"\")\n",
    "        j=j+1\n",
    "    j=i-1\n",
    "    p=i-1\n",
    "    while j >= 1:\n",
    "        print(p,end=\"\")\n",
    "        j=j-1\n",
    "        p=p+1\n",
    "    print()\n",
    "    i=i+1"
   ]
  },
  {
   "cell_type": "code",
   "execution_count": 17,
   "id": "5d50a8cf",
   "metadata": {},
   "outputs": [
    {
     "name": "stdout",
     "output_type": "stream",
     "text": [
      "5\n",
      "    *\n",
      "   ***\n",
      "  *****\n",
      " *******\n",
      "*********\n"
     ]
    }
   ],
   "source": [
    "n=int(input())\n",
    "i=1\n",
    "while i <= n:\n",
    "    spaces=1\n",
    "    while spaces <= n-i:\n",
    "        print(\" \",end=\"\")\n",
    "        spaces=spaces+1\n",
    "    j=1\n",
    "    while j <= i:\n",
    "        print(\"*\",end=\"\")\n",
    "        j=j+1\n",
    "    j=i-1\n",
    "    while j >= 1:\n",
    "        print(\"*\",end=\"\")\n",
    "        j=j-1\n",
    "    print()\n",
    "    i=i+1"
   ]
  },
  {
   "cell_type": "code",
   "execution_count": 26,
   "id": "a2f28537",
   "metadata": {},
   "outputs": [
    {
     "name": "stdout",
     "output_type": "stream",
     "text": [
      "7\n",
      "      1\n",
      "     232\n",
      "    34543\n",
      "   4567654\n",
      "  567898765\n",
      " 67891011109876\n",
      "78910111213121110987\n"
     ]
    }
   ],
   "source": [
    "n=int(input())\n",
    "i=1\n",
    "p=1\n",
    "while i <= n:\n",
    "    spaces=1\n",
    "    while spaces <= n-i:\n",
    "        print(\" \",end=\"\")\n",
    "        spaces=spaces+1\n",
    "    j=1\n",
    "    p=i\n",
    "    while j <= i:\n",
    "        print(p,end=\"\")\n",
    "        j=j+1\n",
    "        p=p+1\n",
    "    j=i-1\n",
    "    p=p-2\n",
    "    while j >= 1:\n",
    "        print(p,end=\"\")\n",
    "        j=j-1\n",
    "        p=p-1\n",
    "    print()\n",
    "    i=i+1"
   ]
  },
  {
   "cell_type": "code",
   "execution_count": 34,
   "id": "79e3a239",
   "metadata": {},
   "outputs": [
    {
     "name": "stdout",
     "output_type": "stream",
     "text": [
      "4\n",
      "     *\n",
      "    ***\n",
      "   *****\n",
      "  *******\n",
      "   *****\n",
      "    ***\n",
      "     *\n"
     ]
    }
   ],
   "source": [
    "h = int(input())\n",
    "for x in range(h):\n",
    "    print(\" \" * (h - x), \"*\" * (2*x + 1))\n",
    "for x in range(h - 2, -1, -1):\n",
    "    print(\" \" * (h - x), \"*\" * (2*x + 1))"
   ]
  },
  {
   "cell_type": "code",
   "execution_count": null,
   "id": "5d31ac90",
   "metadata": {},
   "outputs": [],
   "source": [
    "n=int(input())\n",
    "n1=int((n+1)/2)\n",
    "n2=int((n-1/2))\n",
    "i=1\n",
    "    \n",
    "while i <= n2:\n",
    "    spaces=1\n",
    "    while spaces <=(n-i)+1:\n",
    "        print(\" \",end=\"\")\n",
    "        spaces=spaces+1\n",
    "    j=i\n",
    "    while j < n2:\n",
    "        print(\"*\",end=\"\")\n",
    "        j=j+1\n",
    "    j=i-1\n",
    "    while j >= 1:\n",
    "        print(\"*\",end=\"\")\n",
    "        j=j-1\n",
    "    print()\n",
    "    i=i+1"
   ]
  },
  {
   "cell_type": "code",
   "execution_count": 38,
   "id": "d7c62178",
   "metadata": {},
   "outputs": [
    {
     "name": "stdout",
     "output_type": "stream",
     "text": [
      "7\n",
      "   *\n",
      "  ***\n",
      " *****\n",
      "*******\n",
      " *****\n",
      "  ***\n",
      "   *\n"
     ]
    }
   ],
   "source": [
    "n=int(input())\n",
    "n1=int((n+1)/2)\n",
    "n2=int((n-1)/2)\n",
    "i=1\n",
    "while i <= n1:\n",
    "    spaces=1\n",
    "    while spaces <= n1-i:\n",
    "        print(\" \",end=\"\")\n",
    "        spaces=spaces+1\n",
    "    j=1\n",
    "    while j <= i:\n",
    "        print(\"*\",end=\"\")\n",
    "        j=j+1\n",
    "    j=i-1\n",
    "    while j >= 1:\n",
    "        print(\"*\",end=\"\")\n",
    "        j=j-1\n",
    "    print()\n",
    "    i=i+1\n",
    "for i in range(n2):\n",
    "    for j in range(i+1):\n",
    "        print(' ', end='')\n",
    "    for j in range(2*(n1 - i - 1) - 1):\n",
    "        print('*', end='')\n",
    "    print()"
   ]
  },
  {
   "cell_type": "code",
   "execution_count": 5,
   "id": "3dc0a0d2",
   "metadata": {},
   "outputs": [
    {
     "name": "stdout",
     "output_type": "stream",
     "text": [
      "5\n",
      ".. *\n",
      ". ***\n",
      " *****\n",
      ". ***\n",
      ".. *\n"
     ]
    }
   ],
   "source": [
    "n = int(input())\n",
    "for i in range(1, n, 2):\n",
    "    print(\".\"*(n//2-i//2), \"*\"*i)\n",
    "for i in range(n, 0, -2):\n",
    "     print(\".\"*(n//2-i//2), \"*\"*i)"
   ]
  },
  {
   "cell_type": "code",
   "execution_count": 158,
   "id": "6790d401",
   "metadata": {
    "scrolled": true
   },
   "outputs": [
    {
     "name": "stdout",
     "output_type": "stream",
     "text": [
      "5\n",
      "E\n",
      "DE\n",
      "CDE\n",
      "BCDE\n",
      "ABCDE\n"
     ]
    }
   ],
   "source": [
    "n = int(input())\n",
    "for i in range(n, 0, -1):\n",
    "    for j in range(i, n + 1, 1):\n",
    "        print(chr(ord('A') + j - 1),end = \"\")\n",
    "    print(\"\")"
   ]
  },
  {
   "cell_type": "code",
   "execution_count": 28,
   "id": "66b60e92",
   "metadata": {},
   "outputs": [
    {
     "name": "stdout",
     "output_type": "stream",
     "text": [
      " ***********\n",
      "  *********\n",
      "   *******\n",
      "    *****\n",
      "     ***\n",
      "      *\n"
     ]
    }
   ],
   "source": [
    "    \n",
    "for i in range(n - 1):\n",
    "    for j in range(i + 1):\n",
    "        print(' ', end='')\n",
    "    for j in range(2*(n - i - 1) - 1):\n",
    "        print('*', end='')\n",
    "    print()"
   ]
  },
  {
   "cell_type": "code",
   "execution_count": null,
   "id": "42a1721e",
   "metadata": {},
   "outputs": [],
   "source": [
    "n=int(input())\n",
    "n1=int((n+1)/2)\n",
    "n2=int((n-1)/2)\n",
    "i=1\n",
    "while i <= n1:\n",
    "    spaces=1\n",
    "    while spaces <= n1-i:\n",
    "        print(\" \",end=\"\")\n",
    "        spaces=spaces+1\n",
    "    j=1\n",
    "    while j <= i:\n",
    "        print(\"*\",end=\"\")\n",
    "        j=j+1\n",
    "    j=i-1\n",
    "    while j >= 1:\n",
    "        print(\"*\",end=\"\")\n",
    "        j=j-1\n",
    "    print()\n",
    "    i=i+1\n",
    "\n",
    "while i <= n1:\n",
    "    spaces=1\n",
    "    while spaces <= n1-i:\n",
    "        print(\" \",end=\"\")\n",
    "        spaces=spaces+1\n",
    "    j=1\n",
    "    while j <= n1-i:\n",
    "        print(\"*\",end=\"\")\n",
    "        j=j+1\n",
    "    j=i-1\n",
    "    while j >= 1:\n",
    "        print(\"*\",end=\"\")\n",
    "        j=j-1\n",
    "    print()\n",
    "    i=i+1"
   ]
  },
  {
   "cell_type": "markdown",
   "id": "ab61f8c8",
   "metadata": {},
   "source": [
    "   1\n",
    "  232\n",
    " 34543\n",
    "4567654\n",
    "using for loop"
   ]
  },
  {
   "cell_type": "code",
   "execution_count": 8,
   "id": "b33ec394",
   "metadata": {},
   "outputs": [
    {
     "name": "stdout",
     "output_type": "stream",
     "text": [
      "4\n",
      "   1\n",
      "  232\n",
      " 34543\n",
      "4567654\n"
     ]
    }
   ],
   "source": [
    "n=int(input())\n",
    "space=0\n",
    "for i in range(1 ,n + 1, 1):\n",
    "    for s in range (n-i):\n",
    "        print(\" \",end=\"\")\n",
    "    for j in range(i , 2 * i, 1):\n",
    "        print(j,end=\"\")\n",
    "    for j in range(2 * i-2, i-1, -1):\n",
    "        print(j,end=\"\")\n",
    "        j=j+1\n",
    "    print()\n",
    "    i=i+1"
   ]
  },
  {
   "cell_type": "code",
   "execution_count": null,
   "id": "89950c01",
   "metadata": {},
   "outputs": [],
   "source": []
  }
 ],
 "metadata": {
  "kernelspec": {
   "display_name": "Python 3 (ipykernel)",
   "language": "python",
   "name": "python3"
  },
  "language_info": {
   "codemirror_mode": {
    "name": "ipython",
    "version": 3
   },
   "file_extension": ".py",
   "mimetype": "text/x-python",
   "name": "python",
   "nbconvert_exporter": "python",
   "pygments_lexer": "ipython3",
   "version": "3.9.7"
  }
 },
 "nbformat": 4,
 "nbformat_minor": 5
}
